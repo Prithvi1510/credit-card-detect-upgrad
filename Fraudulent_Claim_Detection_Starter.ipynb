{
 "cells": [
  {
   "cell_type": "markdown",
   "metadata": {
    "id": "uJ6cv25EDPWV"
   },
   "source": [
    "## **Fraudulent Claim Detection**"
   ]
  },
  {
   "cell_type": "markdown",
   "metadata": {
    "id": "_rLrWLwZDPWW"
   },
   "source": [
    "## Problem Statement\n",
    "Global Insure, a leading insurance company, processes thousands of claims annually. However, a significant percentage of these claims turn out to be fraudulent, resulting in considerable financial losses. The company’s current process for identifying fraudulent claims involves manual inspections, which is time-consuming and inefficient. Fraudulent claims are often detected too late in the process, after the company has already paid out significant amounts. Global Insure wants to improve its fraud detection process using data-driven insights to classify claims as fraudulent or legitimate early in the approval process. This would minimise financial losses and optimise the overall claims handling process.\n",
    "\n",
    "## Business Objective\n",
    "Global Insure wants to build a model to classify insurance claims as either fraudulent or legitimate based on historical claim details and customer profiles. By using features like claim amounts, customer profiles and claim types, the company aims to predict which claims are likely to be fraudulent before they are approved.\n",
    "\n",
    "\n",
    "Based on this assignment, you have to answer the following questions:<br>\n",
    "\n",
    "● How can we analyse historical claim data to detect patterns that indicate fraudulent claims?<br>\n",
    "● Which features are most predictive of fraudulent behaviour?<br>\n",
    "● Can we predict the likelihood of fraud for an incoming claim, based on past data?<br>\n",
    "● What insights can be drawn from the model that can help in improving the fraud detection process?<br>"
   ]
  },
  {
   "cell_type": "markdown",
   "metadata": {
    "id": "dCp1H_XyDPWX"
   },
   "source": [
    "## Assignment Tasks\n",
    "You need to perform the following steps for successfully completing this assignment:\n",
    "1. Data Preparation\n",
    "2. Data Cleaning\n",
    "3. Train Validation Split 70-30\n",
    "4. EDA on Training Data\n",
    "5. EDA on Validation Data (optional)\n",
    "6. Feature Engineering\n",
    "7. Model Building\n",
    "8. Predicting and Model Evaluation"
   ]
  },
  {
   "cell_type": "markdown",
   "metadata": {
    "id": "PPnbScj6sHfw"
   },
   "source": [
    "## Data Dictionary\n",
    "The insurance claims data has 40 Columns and 1000 Rows. Following data dictionary provides the description for each column present in dataset:<br>\n",
    "\n",
    "<table>\n",
    "  <thead>\n",
    "    <tr>\n",
    "      <th>Column Name</th>\n",
    "      <th>Description</th>\n",
    "    </tr>\n",
    "  </thead>\n",
    "  <tbody>\n",
    "    <tr>\n",
    "      <td>months_as_customer</td>\n",
    "      <td>Represents the duration in months that a customer has been associated with the insurance company.</td>\n",
    "    </tr>\n",
    "    <tr>\n",
    "      <td>age</td>\n",
    "      <td>Represents the age of the insured person.</td>\n",
    "    </tr>\n",
    "    <tr>\n",
    "      <td>policy_number</td>\n",
    "      <td>Represents a unique identifier for each insurance policy.</td>\n",
    "    </tr>\n",
    "    <tr>\n",
    "      <td>policy_bind_date</td>\n",
    "      <td>Represents the date when the insurance policy was initiated.</td>\n",
    "    </tr>\n",
    "    <tr>\n",
    "      <td>policy_state</td>\n",
    "      <td>Represents the state where the insurance policy is applicable.</td>\n",
    "    </tr>\n",
    "    <tr>\n",
    "      <td>policy_csl</td>\n",
    "      <td>Represents the combined single limit for the insurance policy.</td>\n",
    "    </tr>\n",
    "    <tr>\n",
    "      <td>policy_deductable</td>\n",
    "      <td>Represents the amount that the insured person needs to pay before the insurance coverage kicks in.</td>\n",
    "    </tr>\n",
    "    <tr>\n",
    "      <td>policy_annual_premium</td>\n",
    "      <td>Represents the yearly cost of the insurance policy.</td>\n",
    "    </tr>\n",
    "    <tr>\n",
    "      <td>umbrella_limit</td>\n",
    "      <td>Represents an additional layer of liability coverage provided beyond the limits of the primary insurance policy.</td>\n",
    "    </tr>\n",
    "    <tr>\n",
    "      <td>insured_zip</td>\n",
    "      <td>Represents the zip code of the insured person.</td>\n",
    "    </tr>\n",
    "    <tr>\n",
    "      <td>insured_sex</td>\n",
    "      <td>Represents the gender of the insured person.</td>\n",
    "    </tr>\n",
    "    <tr>\n",
    "      <td>insured_education_level</td>\n",
    "      <td>Represents the highest educational qualification of the insured person.</td>\n",
    "    </tr>\n",
    "    <tr>\n",
    "      <td>insured_occupation</td>\n",
    "      <td>Represents the profession or job of the insured person.</td>\n",
    "    </tr>\n",
    "    <tr>\n",
    "      <td>insured_hobbies</td>\n",
    "      <td>Represents the hobbies or leisure activities of the insured person.</td>\n",
    "    </tr>\n",
    "    <tr>\n",
    "      <td>insured_relationship</td>\n",
    "      <td>Represents the relationship of the insured person to the policyholder.</td>\n",
    "    </tr>\n",
    "    <tr>\n",
    "      <td>capital-gains</td>\n",
    "      <td>Represents the profit earned from the sale of assets such as stocks, bonds, or real estate.</td>\n",
    "    </tr>\n",
    "    <tr>\n",
    "      <td>capital-loss</td>\n",
    "      <td>Represents the loss incurred from the sale of assets such as stocks, bonds, or real estate.</td>\n",
    "    </tr>\n",
    "    <tr>\n",
    "      <td>incident_date</td>\n",
    "      <td>Represents the date when the incident or accident occurred.</td>\n",
    "    </tr>\n",
    "    <tr>\n",
    "      <td>incident_type</td>\n",
    "      <td>Represents the category or type of incident that led to the claim.</td>\n",
    "    </tr>\n",
    "    <tr>\n",
    "      <td>collision_type</td>\n",
    "      <td>Represents the type of collision that occurred in an accident.</td>\n",
    "    </tr>\n",
    "    <tr>\n",
    "      <td>incident_severity</td>\n",
    "      <td>Represents the extent of damage or injury caused by the incident.</td>\n",
    "    </tr>\n",
    "    <tr>\n",
    "      <td>authorities_contacted</td>\n",
    "      <td>Represents the authorities or agencies that were contacted after the incident.</td>\n",
    "    </tr>\n",
    "    <tr>\n",
    "      <td>incident_state</td>\n",
    "      <td>Represents the state where the incident occurred.</td>\n",
    "    </tr>\n",
    "    <tr>\n",
    "      <td>incident_city</td>\n",
    "      <td>Represents the city where the incident occurred.</td>\n",
    "    </tr>\n",
    "    <tr>\n",
    "      <td>incident_location</td>\n",
    "      <td>Represents the specific location or address where the incident occurred.</td>\n",
    "    </tr>\n",
    "    <tr>\n",
    "      <td>incident_hour_of_the_day</td>\n",
    "      <td>Represents the hour of the day when the incident occurred.</td>\n",
    "    </tr>\n",
    "    <tr>\n",
    "      <td>number_of_vehicles_involved</td>\n",
    "      <td>Represents the total number of vehicles involved in the incident.</td>\n",
    "    </tr>\n",
    "    <tr>\n",
    "      <td>property_damage</td>\n",
    "      <td>Represents whether there was any damage to property in the incident.</td>\n",
    "    </tr>\n",
    "    <tr>\n",
    "      <td>bodily_injuries</td>\n",
    "      <td>Represents the number of bodily injuries resulting from the incident.</td>\n",
    "    </tr>\n",
    "    <tr>\n",
    "      <td>witnesses</td>\n",
    "      <td>Represents the number of witnesses present at the scene of the incident.</td>\n",
    "    </tr>\n",
    "    <tr>\n",
    "      <td>police_report_available</td>\n",
    "      <td>Represents whether a police report is available for the incident.</td>\n",
    "    </tr>\n",
    "    <tr>\n",
    "      <td>total_claim_amount</td>\n",
    "      <td>Represents the total amount claimed by the insured person for the incident.</td>\n",
    "    </tr>\n",
    "    <tr>\n",
    "      <td>injury_claim</td>\n",
    "      <td>Represents the amount claimed for injuries sustained in the incident.</td>\n",
    "    </tr>\n",
    "    <tr>\n",
    "      <td>property_claim</td>\n",
    "      <td>Represents the amount claimed for property damage in the incident.</td>\n",
    "    </tr>\n",
    "    <tr>\n",
    "      <td>vehicle_claim</td>\n",
    "      <td>Represents the amount claimed for vehicle damage in the incident.</td>\n",
    "    </tr>\n",
    "    <tr>\n",
    "      <td>auto_make</td>\n",
    "      <td>Represents the manufacturer of the insured vehicle.</td>\n",
    "    </tr>\n",
    "    <tr>\n",
    "      <td>auto_model</td>\n",
    "      <td>Represents the specific model of the insured vehicle.</td>\n",
    "    </tr>\n",
    "    <tr>\n",
    "      <td>auto_year</td>\n",
    "      <td>Represents the year of manufacture of the insured vehicle.</td>\n",
    "    </tr>\n",
    "    <tr>\n",
    "      <td>fraud_reported</td>\n",
    "      <td>Represents whether the claim was reported as fraudulent or not.</td>\n",
    "    </tr>\n",
    "    <tr>\n",
    "      <td>_c39</td>\n",
    "      <td>Represents an unknown or unspecified variable.</td>\n",
    "    </tr>\n",
    "  </tbody>\n",
    "</table>"
   ]
  },
  {
   "cell_type": "markdown",
   "metadata": {
    "id": "2Hfg3nHjDPWY"
   },
   "source": [
    "## **1. Data Preparation**\n",
    "In this step, read the dataset provided in CSV format and look at basic statistics of the data, including preview of data, dimension of data, column descriptions and data types."
   ]
  },
  {
   "cell_type": "markdown",
   "metadata": {
    "id": "2xZBs5L_DPWY"
   },
   "source": [
    "### **1.0 Import Libraries**"
   ]
  },
  {
   "cell_type": "code",
   "execution_count": 48,
   "metadata": {
    "id": "2xUZYP92DPWY"
   },
   "outputs": [],
   "source": [
    "# Supress unnecessary warnings\n",
    "import warnings\n",
    "warnings.filterwarnings(\"ignore\")"
   ]
  },
  {
   "cell_type": "code",
   "execution_count": 49,
   "metadata": {
    "id": "6glz5HkPDPWZ"
   },
   "outputs": [],
   "source": [
    "# Import necessary libraries\n",
    "import numpy as np\n",
    "import pandas as pd\n",
    "import seaborn as sns\n",
    "import matplotlib.pyplot as plt\n",
    "import datetime as dt \n",
    "\n",
    "\n",
    "PATH = r'/home/prithvi/Documents/upgrad/Starter+Notebook+++Data/Starter Notebook + Data/insurance_claims.csv'"
   ]
  },
  {
   "cell_type": "markdown",
   "metadata": {
    "id": "D8-RBUdWDPWZ"
   },
   "source": [
    "### **1.1 Load the Data**"
   ]
  },
  {
   "cell_type": "code",
   "execution_count": 50,
   "metadata": {
    "id": "kP0JaSjJDPWZ"
   },
   "outputs": [],
   "source": [
    "# Load the dataset\n",
    "df = pd.read_csv(PATH)"
   ]
  },
  {
   "cell_type": "code",
   "execution_count": 51,
   "metadata": {
    "id": "qaR4TkqTDPWZ"
   },
   "outputs": [
    {
     "data": {
      "application/vnd.microsoft.datawrangler.viewer.v0+json": {
       "columns": [
        {
         "name": "index",
         "rawType": "int64",
         "type": "integer"
        },
        {
         "name": "months_as_customer",
         "rawType": "int64",
         "type": "integer"
        },
        {
         "name": "age",
         "rawType": "int64",
         "type": "integer"
        },
        {
         "name": "policy_number",
         "rawType": "int64",
         "type": "integer"
        },
        {
         "name": "policy_bind_date",
         "rawType": "object",
         "type": "string"
        },
        {
         "name": "policy_state",
         "rawType": "object",
         "type": "string"
        },
        {
         "name": "policy_csl",
         "rawType": "object",
         "type": "string"
        },
        {
         "name": "policy_deductable",
         "rawType": "int64",
         "type": "integer"
        },
        {
         "name": "policy_annual_premium",
         "rawType": "float64",
         "type": "float"
        },
        {
         "name": "umbrella_limit",
         "rawType": "int64",
         "type": "integer"
        },
        {
         "name": "insured_zip",
         "rawType": "int64",
         "type": "integer"
        },
        {
         "name": "insured_sex",
         "rawType": "object",
         "type": "string"
        },
        {
         "name": "insured_education_level",
         "rawType": "object",
         "type": "string"
        },
        {
         "name": "insured_occupation",
         "rawType": "object",
         "type": "string"
        },
        {
         "name": "insured_hobbies",
         "rawType": "object",
         "type": "string"
        },
        {
         "name": "insured_relationship",
         "rawType": "object",
         "type": "string"
        },
        {
         "name": "capital-gains",
         "rawType": "int64",
         "type": "integer"
        },
        {
         "name": "capital-loss",
         "rawType": "int64",
         "type": "integer"
        },
        {
         "name": "incident_date",
         "rawType": "object",
         "type": "string"
        },
        {
         "name": "incident_type",
         "rawType": "object",
         "type": "string"
        },
        {
         "name": "collision_type",
         "rawType": "object",
         "type": "string"
        },
        {
         "name": "incident_severity",
         "rawType": "object",
         "type": "string"
        },
        {
         "name": "authorities_contacted",
         "rawType": "object",
         "type": "unknown"
        },
        {
         "name": "incident_state",
         "rawType": "object",
         "type": "string"
        },
        {
         "name": "incident_city",
         "rawType": "object",
         "type": "string"
        },
        {
         "name": "incident_location",
         "rawType": "object",
         "type": "string"
        },
        {
         "name": "incident_hour_of_the_day",
         "rawType": "int64",
         "type": "integer"
        },
        {
         "name": "number_of_vehicles_involved",
         "rawType": "int64",
         "type": "integer"
        },
        {
         "name": "property_damage",
         "rawType": "object",
         "type": "string"
        },
        {
         "name": "bodily_injuries",
         "rawType": "int64",
         "type": "integer"
        },
        {
         "name": "witnesses",
         "rawType": "int64",
         "type": "integer"
        },
        {
         "name": "police_report_available",
         "rawType": "object",
         "type": "string"
        },
        {
         "name": "total_claim_amount",
         "rawType": "int64",
         "type": "integer"
        },
        {
         "name": "injury_claim",
         "rawType": "int64",
         "type": "integer"
        },
        {
         "name": "property_claim",
         "rawType": "int64",
         "type": "integer"
        },
        {
         "name": "vehicle_claim",
         "rawType": "int64",
         "type": "integer"
        },
        {
         "name": "auto_make",
         "rawType": "object",
         "type": "string"
        },
        {
         "name": "auto_model",
         "rawType": "object",
         "type": "string"
        },
        {
         "name": "auto_year",
         "rawType": "int64",
         "type": "integer"
        },
        {
         "name": "fraud_reported",
         "rawType": "object",
         "type": "string"
        },
        {
         "name": "_c39",
         "rawType": "float64",
         "type": "float"
        }
       ],
       "ref": "6bafe17c-b03e-452e-a60a-a89b91826c80",
       "rows": [
        [
         "0",
         "328",
         "48",
         "521585",
         "2014-10-17",
         "OH",
         "250/500",
         "1000",
         "1406.91",
         "0",
         "466132",
         "MALE",
         "MD",
         "craft-repair",
         "sleeping",
         "husband",
         "53300",
         "0",
         "2015-01-25",
         "Single Vehicle Collision",
         "Side Collision",
         "Major Damage",
         "Police",
         "SC",
         "Columbus",
         "9935 4th Drive",
         "5",
         "1",
         "YES",
         "1",
         "2",
         "YES",
         "71610",
         "6510",
         "13020",
         "52080",
         "Saab",
         "92x",
         "2004",
         "Y",
         null
        ],
        [
         "1",
         "228",
         "42",
         "342868",
         "2006-06-27",
         "IN",
         "250/500",
         "2000",
         "1197.22",
         "5000000",
         "468176",
         "MALE",
         "MD",
         "machine-op-inspct",
         "reading",
         "other-relative",
         "0",
         "0",
         "2015-01-21",
         "Vehicle Theft",
         "?",
         "Minor Damage",
         "Police",
         "VA",
         "Riverwood",
         "6608 MLK Hwy",
         "8",
         "1",
         "?",
         "0",
         "0",
         "?",
         "5070",
         "780",
         "780",
         "3510",
         "Mercedes",
         "E400",
         "2007",
         "Y",
         null
        ],
        [
         "2",
         "134",
         "29",
         "687698",
         "2000-09-06",
         "OH",
         "100/300",
         "2000",
         "1413.14",
         "5000000",
         "430632",
         "FEMALE",
         "PhD",
         "sales",
         "board-games",
         "own-child",
         "35100",
         "0",
         "2015-02-22",
         "Multi-vehicle Collision",
         "Rear Collision",
         "Minor Damage",
         "Police",
         "NY",
         "Columbus",
         "7121 Francis Lane",
         "7",
         "3",
         "NO",
         "2",
         "3",
         "NO",
         "34650",
         "7700",
         "3850",
         "23100",
         "Dodge",
         "RAM",
         "2007",
         "N",
         null
        ],
        [
         "3",
         "256",
         "41",
         "227811",
         "1990-05-25",
         "IL",
         "250/500",
         "2000",
         "1415.74",
         "6000000",
         "608117",
         "FEMALE",
         "PhD",
         "armed-forces",
         "board-games",
         "unmarried",
         "48900",
         "-62400",
         "2015-01-10",
         "Single Vehicle Collision",
         "Front Collision",
         "Major Damage",
         "Police",
         "OH",
         "Arlington",
         "6956 Maple Drive",
         "5",
         "1",
         "?",
         "1",
         "2",
         "NO",
         "63400",
         "6340",
         "6340",
         "50720",
         "Chevrolet",
         "Tahoe",
         "2014",
         "Y",
         null
        ],
        [
         "4",
         "228",
         "44",
         "367455",
         "2014-06-06",
         "IL",
         "500/1000",
         "1000",
         "1583.91",
         "6000000",
         "610706",
         "MALE",
         "Associate",
         "sales",
         "board-games",
         "unmarried",
         "66000",
         "-46000",
         "2015-02-17",
         "Vehicle Theft",
         "?",
         "Minor Damage",
         null,
         "NY",
         "Arlington",
         "3041 3rd Ave",
         "20",
         "1",
         "NO",
         "0",
         "1",
         "NO",
         "6500",
         "1300",
         "650",
         "4550",
         "Accura",
         "RSX",
         "2009",
         "N",
         null
        ],
        [
         "5",
         "256",
         "39",
         "104594",
         "2006-10-12",
         "OH",
         "250/500",
         "1000",
         "1351.1",
         "0",
         "478456",
         "FEMALE",
         "PhD",
         "tech-support",
         "bungie-jumping",
         "unmarried",
         "0",
         "0",
         "2015-01-02",
         "Multi-vehicle Collision",
         "Rear Collision",
         "Major Damage",
         "Fire",
         "SC",
         "Arlington",
         "8973 Washington St",
         "19",
         "3",
         "NO",
         "0",
         "2",
         "NO",
         "64100",
         "6410",
         "6410",
         "51280",
         "Saab",
         "95",
         "2003",
         "Y",
         null
        ],
        [
         "6",
         "137",
         "34",
         "413978",
         "2000-06-04",
         "IN",
         "250/500",
         "1000",
         "1333.35",
         "0",
         "441716",
         "MALE",
         "PhD",
         "prof-specialty",
         "board-games",
         "husband",
         "0",
         "-77000",
         "2015-01-13",
         "Multi-vehicle Collision",
         "Front Collision",
         "Minor Damage",
         "Police",
         "NY",
         "Springfield",
         "5846 Weaver Drive",
         "0",
         "3",
         "?",
         "0",
         "0",
         "?",
         "78650",
         "21450",
         "7150",
         "50050",
         "Nissan",
         "Pathfinder",
         "2012",
         "N",
         null
        ],
        [
         "7",
         "165",
         "37",
         "429027",
         "1990-02-03",
         "IL",
         "100/300",
         "1000",
         "1137.03",
         "0",
         "603195",
         "MALE",
         "Associate",
         "tech-support",
         "base-jumping",
         "unmarried",
         "0",
         "0",
         "2015-02-27",
         "Multi-vehicle Collision",
         "Front Collision",
         "Total Loss",
         "Police",
         "VA",
         "Columbus",
         "3525 3rd Hwy",
         "23",
         "3",
         "?",
         "2",
         "2",
         "YES",
         "51590",
         "9380",
         "9380",
         "32830",
         "Audi",
         "A5",
         "2015",
         "N",
         null
        ],
        [
         "8",
         "27",
         "33",
         "485665",
         "1997-02-05",
         "IL",
         "100/300",
         "500",
         "1442.99",
         "0",
         "601734",
         "FEMALE",
         "PhD",
         "other-service",
         "golf",
         "own-child",
         "0",
         "0",
         "2015-01-30",
         "Single Vehicle Collision",
         "Front Collision",
         "Total Loss",
         "Police",
         "WV",
         "Arlington",
         "4872 Rock Ridge",
         "21",
         "1",
         "NO",
         "1",
         "1",
         "YES",
         "27700",
         "2770",
         "2770",
         "22160",
         "Toyota",
         "Camry",
         "2012",
         "N",
         null
        ],
        [
         "9",
         "212",
         "42",
         "636550",
         "2011-07-25",
         "IL",
         "100/300",
         "500",
         "1315.68",
         "0",
         "600983",
         "MALE",
         "PhD",
         "priv-house-serv",
         "camping",
         "wife",
         "0",
         "-39300",
         "2015-01-05",
         "Single Vehicle Collision",
         "Rear Collision",
         "Total Loss",
         "Other",
         "NC",
         "Hillsdale",
         "3066 Francis Ave",
         "14",
         "1",
         "NO",
         "2",
         "1",
         "?",
         "42300",
         "4700",
         "4700",
         "32900",
         "Saab",
         "92x",
         "1996",
         "N",
         null
        ]
       ],
       "shape": {
        "columns": 40,
        "rows": 10
       }
      },
      "text/html": [
       "<div>\n",
       "<style scoped>\n",
       "    .dataframe tbody tr th:only-of-type {\n",
       "        vertical-align: middle;\n",
       "    }\n",
       "\n",
       "    .dataframe tbody tr th {\n",
       "        vertical-align: top;\n",
       "    }\n",
       "\n",
       "    .dataframe thead th {\n",
       "        text-align: right;\n",
       "    }\n",
       "</style>\n",
       "<table border=\"1\" class=\"dataframe\">\n",
       "  <thead>\n",
       "    <tr style=\"text-align: right;\">\n",
       "      <th></th>\n",
       "      <th>months_as_customer</th>\n",
       "      <th>age</th>\n",
       "      <th>policy_number</th>\n",
       "      <th>policy_bind_date</th>\n",
       "      <th>policy_state</th>\n",
       "      <th>policy_csl</th>\n",
       "      <th>policy_deductable</th>\n",
       "      <th>policy_annual_premium</th>\n",
       "      <th>umbrella_limit</th>\n",
       "      <th>insured_zip</th>\n",
       "      <th>...</th>\n",
       "      <th>police_report_available</th>\n",
       "      <th>total_claim_amount</th>\n",
       "      <th>injury_claim</th>\n",
       "      <th>property_claim</th>\n",
       "      <th>vehicle_claim</th>\n",
       "      <th>auto_make</th>\n",
       "      <th>auto_model</th>\n",
       "      <th>auto_year</th>\n",
       "      <th>fraud_reported</th>\n",
       "      <th>_c39</th>\n",
       "    </tr>\n",
       "  </thead>\n",
       "  <tbody>\n",
       "    <tr>\n",
       "      <th>0</th>\n",
       "      <td>328</td>\n",
       "      <td>48</td>\n",
       "      <td>521585</td>\n",
       "      <td>2014-10-17</td>\n",
       "      <td>OH</td>\n",
       "      <td>250/500</td>\n",
       "      <td>1000</td>\n",
       "      <td>1406.91</td>\n",
       "      <td>0</td>\n",
       "      <td>466132</td>\n",
       "      <td>...</td>\n",
       "      <td>YES</td>\n",
       "      <td>71610</td>\n",
       "      <td>6510</td>\n",
       "      <td>13020</td>\n",
       "      <td>52080</td>\n",
       "      <td>Saab</td>\n",
       "      <td>92x</td>\n",
       "      <td>2004</td>\n",
       "      <td>Y</td>\n",
       "      <td>NaN</td>\n",
       "    </tr>\n",
       "    <tr>\n",
       "      <th>1</th>\n",
       "      <td>228</td>\n",
       "      <td>42</td>\n",
       "      <td>342868</td>\n",
       "      <td>2006-06-27</td>\n",
       "      <td>IN</td>\n",
       "      <td>250/500</td>\n",
       "      <td>2000</td>\n",
       "      <td>1197.22</td>\n",
       "      <td>5000000</td>\n",
       "      <td>468176</td>\n",
       "      <td>...</td>\n",
       "      <td>?</td>\n",
       "      <td>5070</td>\n",
       "      <td>780</td>\n",
       "      <td>780</td>\n",
       "      <td>3510</td>\n",
       "      <td>Mercedes</td>\n",
       "      <td>E400</td>\n",
       "      <td>2007</td>\n",
       "      <td>Y</td>\n",
       "      <td>NaN</td>\n",
       "    </tr>\n",
       "    <tr>\n",
       "      <th>2</th>\n",
       "      <td>134</td>\n",
       "      <td>29</td>\n",
       "      <td>687698</td>\n",
       "      <td>2000-09-06</td>\n",
       "      <td>OH</td>\n",
       "      <td>100/300</td>\n",
       "      <td>2000</td>\n",
       "      <td>1413.14</td>\n",
       "      <td>5000000</td>\n",
       "      <td>430632</td>\n",
       "      <td>...</td>\n",
       "      <td>NO</td>\n",
       "      <td>34650</td>\n",
       "      <td>7700</td>\n",
       "      <td>3850</td>\n",
       "      <td>23100</td>\n",
       "      <td>Dodge</td>\n",
       "      <td>RAM</td>\n",
       "      <td>2007</td>\n",
       "      <td>N</td>\n",
       "      <td>NaN</td>\n",
       "    </tr>\n",
       "    <tr>\n",
       "      <th>3</th>\n",
       "      <td>256</td>\n",
       "      <td>41</td>\n",
       "      <td>227811</td>\n",
       "      <td>1990-05-25</td>\n",
       "      <td>IL</td>\n",
       "      <td>250/500</td>\n",
       "      <td>2000</td>\n",
       "      <td>1415.74</td>\n",
       "      <td>6000000</td>\n",
       "      <td>608117</td>\n",
       "      <td>...</td>\n",
       "      <td>NO</td>\n",
       "      <td>63400</td>\n",
       "      <td>6340</td>\n",
       "      <td>6340</td>\n",
       "      <td>50720</td>\n",
       "      <td>Chevrolet</td>\n",
       "      <td>Tahoe</td>\n",
       "      <td>2014</td>\n",
       "      <td>Y</td>\n",
       "      <td>NaN</td>\n",
       "    </tr>\n",
       "    <tr>\n",
       "      <th>4</th>\n",
       "      <td>228</td>\n",
       "      <td>44</td>\n",
       "      <td>367455</td>\n",
       "      <td>2014-06-06</td>\n",
       "      <td>IL</td>\n",
       "      <td>500/1000</td>\n",
       "      <td>1000</td>\n",
       "      <td>1583.91</td>\n",
       "      <td>6000000</td>\n",
       "      <td>610706</td>\n",
       "      <td>...</td>\n",
       "      <td>NO</td>\n",
       "      <td>6500</td>\n",
       "      <td>1300</td>\n",
       "      <td>650</td>\n",
       "      <td>4550</td>\n",
       "      <td>Accura</td>\n",
       "      <td>RSX</td>\n",
       "      <td>2009</td>\n",
       "      <td>N</td>\n",
       "      <td>NaN</td>\n",
       "    </tr>\n",
       "    <tr>\n",
       "      <th>5</th>\n",
       "      <td>256</td>\n",
       "      <td>39</td>\n",
       "      <td>104594</td>\n",
       "      <td>2006-10-12</td>\n",
       "      <td>OH</td>\n",
       "      <td>250/500</td>\n",
       "      <td>1000</td>\n",
       "      <td>1351.10</td>\n",
       "      <td>0</td>\n",
       "      <td>478456</td>\n",
       "      <td>...</td>\n",
       "      <td>NO</td>\n",
       "      <td>64100</td>\n",
       "      <td>6410</td>\n",
       "      <td>6410</td>\n",
       "      <td>51280</td>\n",
       "      <td>Saab</td>\n",
       "      <td>95</td>\n",
       "      <td>2003</td>\n",
       "      <td>Y</td>\n",
       "      <td>NaN</td>\n",
       "    </tr>\n",
       "    <tr>\n",
       "      <th>6</th>\n",
       "      <td>137</td>\n",
       "      <td>34</td>\n",
       "      <td>413978</td>\n",
       "      <td>2000-06-04</td>\n",
       "      <td>IN</td>\n",
       "      <td>250/500</td>\n",
       "      <td>1000</td>\n",
       "      <td>1333.35</td>\n",
       "      <td>0</td>\n",
       "      <td>441716</td>\n",
       "      <td>...</td>\n",
       "      <td>?</td>\n",
       "      <td>78650</td>\n",
       "      <td>21450</td>\n",
       "      <td>7150</td>\n",
       "      <td>50050</td>\n",
       "      <td>Nissan</td>\n",
       "      <td>Pathfinder</td>\n",
       "      <td>2012</td>\n",
       "      <td>N</td>\n",
       "      <td>NaN</td>\n",
       "    </tr>\n",
       "    <tr>\n",
       "      <th>7</th>\n",
       "      <td>165</td>\n",
       "      <td>37</td>\n",
       "      <td>429027</td>\n",
       "      <td>1990-02-03</td>\n",
       "      <td>IL</td>\n",
       "      <td>100/300</td>\n",
       "      <td>1000</td>\n",
       "      <td>1137.03</td>\n",
       "      <td>0</td>\n",
       "      <td>603195</td>\n",
       "      <td>...</td>\n",
       "      <td>YES</td>\n",
       "      <td>51590</td>\n",
       "      <td>9380</td>\n",
       "      <td>9380</td>\n",
       "      <td>32830</td>\n",
       "      <td>Audi</td>\n",
       "      <td>A5</td>\n",
       "      <td>2015</td>\n",
       "      <td>N</td>\n",
       "      <td>NaN</td>\n",
       "    </tr>\n",
       "    <tr>\n",
       "      <th>8</th>\n",
       "      <td>27</td>\n",
       "      <td>33</td>\n",
       "      <td>485665</td>\n",
       "      <td>1997-02-05</td>\n",
       "      <td>IL</td>\n",
       "      <td>100/300</td>\n",
       "      <td>500</td>\n",
       "      <td>1442.99</td>\n",
       "      <td>0</td>\n",
       "      <td>601734</td>\n",
       "      <td>...</td>\n",
       "      <td>YES</td>\n",
       "      <td>27700</td>\n",
       "      <td>2770</td>\n",
       "      <td>2770</td>\n",
       "      <td>22160</td>\n",
       "      <td>Toyota</td>\n",
       "      <td>Camry</td>\n",
       "      <td>2012</td>\n",
       "      <td>N</td>\n",
       "      <td>NaN</td>\n",
       "    </tr>\n",
       "    <tr>\n",
       "      <th>9</th>\n",
       "      <td>212</td>\n",
       "      <td>42</td>\n",
       "      <td>636550</td>\n",
       "      <td>2011-07-25</td>\n",
       "      <td>IL</td>\n",
       "      <td>100/300</td>\n",
       "      <td>500</td>\n",
       "      <td>1315.68</td>\n",
       "      <td>0</td>\n",
       "      <td>600983</td>\n",
       "      <td>...</td>\n",
       "      <td>?</td>\n",
       "      <td>42300</td>\n",
       "      <td>4700</td>\n",
       "      <td>4700</td>\n",
       "      <td>32900</td>\n",
       "      <td>Saab</td>\n",
       "      <td>92x</td>\n",
       "      <td>1996</td>\n",
       "      <td>N</td>\n",
       "      <td>NaN</td>\n",
       "    </tr>\n",
       "  </tbody>\n",
       "</table>\n",
       "<p>10 rows × 40 columns</p>\n",
       "</div>"
      ],
      "text/plain": [
       "   months_as_customer  age  policy_number policy_bind_date policy_state  \\\n",
       "0                 328   48         521585       2014-10-17           OH   \n",
       "1                 228   42         342868       2006-06-27           IN   \n",
       "2                 134   29         687698       2000-09-06           OH   \n",
       "3                 256   41         227811       1990-05-25           IL   \n",
       "4                 228   44         367455       2014-06-06           IL   \n",
       "5                 256   39         104594       2006-10-12           OH   \n",
       "6                 137   34         413978       2000-06-04           IN   \n",
       "7                 165   37         429027       1990-02-03           IL   \n",
       "8                  27   33         485665       1997-02-05           IL   \n",
       "9                 212   42         636550       2011-07-25           IL   \n",
       "\n",
       "  policy_csl  policy_deductable  policy_annual_premium  umbrella_limit  \\\n",
       "0    250/500               1000                1406.91               0   \n",
       "1    250/500               2000                1197.22         5000000   \n",
       "2    100/300               2000                1413.14         5000000   \n",
       "3    250/500               2000                1415.74         6000000   \n",
       "4   500/1000               1000                1583.91         6000000   \n",
       "5    250/500               1000                1351.10               0   \n",
       "6    250/500               1000                1333.35               0   \n",
       "7    100/300               1000                1137.03               0   \n",
       "8    100/300                500                1442.99               0   \n",
       "9    100/300                500                1315.68               0   \n",
       "\n",
       "   insured_zip  ... police_report_available total_claim_amount injury_claim  \\\n",
       "0       466132  ...                     YES              71610         6510   \n",
       "1       468176  ...                       ?               5070          780   \n",
       "2       430632  ...                      NO              34650         7700   \n",
       "3       608117  ...                      NO              63400         6340   \n",
       "4       610706  ...                      NO               6500         1300   \n",
       "5       478456  ...                      NO              64100         6410   \n",
       "6       441716  ...                       ?              78650        21450   \n",
       "7       603195  ...                     YES              51590         9380   \n",
       "8       601734  ...                     YES              27700         2770   \n",
       "9       600983  ...                       ?              42300         4700   \n",
       "\n",
       "  property_claim vehicle_claim  auto_make  auto_model auto_year  \\\n",
       "0          13020         52080       Saab         92x      2004   \n",
       "1            780          3510   Mercedes        E400      2007   \n",
       "2           3850         23100      Dodge         RAM      2007   \n",
       "3           6340         50720  Chevrolet       Tahoe      2014   \n",
       "4            650          4550     Accura         RSX      2009   \n",
       "5           6410         51280       Saab          95      2003   \n",
       "6           7150         50050     Nissan  Pathfinder      2012   \n",
       "7           9380         32830       Audi          A5      2015   \n",
       "8           2770         22160     Toyota       Camry      2012   \n",
       "9           4700         32900       Saab         92x      1996   \n",
       "\n",
       "  fraud_reported _c39  \n",
       "0              Y  NaN  \n",
       "1              Y  NaN  \n",
       "2              N  NaN  \n",
       "3              Y  NaN  \n",
       "4              N  NaN  \n",
       "5              Y  NaN  \n",
       "6              N  NaN  \n",
       "7              N  NaN  \n",
       "8              N  NaN  \n",
       "9              N  NaN  \n",
       "\n",
       "[10 rows x 40 columns]"
      ]
     },
     "execution_count": 51,
     "metadata": {},
     "output_type": "execute_result"
    }
   ],
   "source": [
    "# Check at the first few entries\n",
    "df.head(10)"
   ]
  },
  {
   "cell_type": "code",
   "execution_count": 52,
   "metadata": {
    "id": "TK9_lipzDPWa"
   },
   "outputs": [
    {
     "data": {
      "text/plain": [
       "(1000, 40)"
      ]
     },
     "execution_count": 52,
     "metadata": {},
     "output_type": "execute_result"
    }
   ],
   "source": [
    "# Inspect the shape of the dataset\n",
    "df.shape"
   ]
  },
  {
   "cell_type": "code",
   "execution_count": 53,
   "metadata": {
    "id": "Fd0PADNIuqov"
   },
   "outputs": [
    {
     "data": {
      "application/vnd.microsoft.datawrangler.viewer.v0+json": {
       "columns": [
        {
         "name": "index",
         "rawType": "object",
         "type": "string"
        },
        {
         "name": "months_as_customer",
         "rawType": "float64",
         "type": "float"
        },
        {
         "name": "age",
         "rawType": "float64",
         "type": "float"
        },
        {
         "name": "policy_number",
         "rawType": "float64",
         "type": "float"
        },
        {
         "name": "policy_deductable",
         "rawType": "float64",
         "type": "float"
        },
        {
         "name": "policy_annual_premium",
         "rawType": "float64",
         "type": "float"
        },
        {
         "name": "umbrella_limit",
         "rawType": "float64",
         "type": "float"
        },
        {
         "name": "insured_zip",
         "rawType": "float64",
         "type": "float"
        },
        {
         "name": "capital-gains",
         "rawType": "float64",
         "type": "float"
        },
        {
         "name": "capital-loss",
         "rawType": "float64",
         "type": "float"
        },
        {
         "name": "incident_hour_of_the_day",
         "rawType": "float64",
         "type": "float"
        },
        {
         "name": "number_of_vehicles_involved",
         "rawType": "float64",
         "type": "float"
        },
        {
         "name": "bodily_injuries",
         "rawType": "float64",
         "type": "float"
        },
        {
         "name": "witnesses",
         "rawType": "float64",
         "type": "float"
        },
        {
         "name": "total_claim_amount",
         "rawType": "float64",
         "type": "float"
        },
        {
         "name": "injury_claim",
         "rawType": "float64",
         "type": "float"
        },
        {
         "name": "property_claim",
         "rawType": "float64",
         "type": "float"
        },
        {
         "name": "vehicle_claim",
         "rawType": "float64",
         "type": "float"
        },
        {
         "name": "auto_year",
         "rawType": "float64",
         "type": "float"
        },
        {
         "name": "_c39",
         "rawType": "float64",
         "type": "float"
        }
       ],
       "ref": "86a1eb89-b9c2-4bda-beb6-a91774168144",
       "rows": [
        [
         "count",
         "1000.0",
         "1000.0",
         "1000.0",
         "1000.0",
         "1000.0",
         "1000.0",
         "1000.0",
         "1000.0",
         "1000.0",
         "1000.0",
         "1000.0",
         "1000.0",
         "1000.0",
         "1000.0",
         "1000.0",
         "1000.0",
         "1000.0",
         "1000.0",
         "0.0"
        ],
        [
         "mean",
         "203.954",
         "38.948",
         "546238.648",
         "1136.0",
         "1256.4061499999998",
         "1101000.0",
         "501214.488",
         "25126.1",
         "-26793.7",
         "11.644",
         "1.839",
         "0.992",
         "1.487",
         "52761.94",
         "7433.42",
         "7399.57",
         "37928.95",
         "2005.103",
         null
        ],
        [
         "std",
         "115.11317442815538",
         "9.140286693580286",
         "257063.00527558493",
         "611.8646732557604",
         "244.16739496140704",
         "2297406.598118208",
         "71701.61094135501",
         "27872.18770813725",
         "28104.096686436318",
         "6.951372928104605",
         "1.0188803252183825",
         "0.8201271905068193",
         "1.1113352626755195",
         "26401.533190161346",
         "4880.951853337071",
         "4824.726178530528",
         "18886.252893198423",
         "6.015860834625546",
         null
        ],
        [
         "min",
         "0.0",
         "19.0",
         "100804.0",
         "500.0",
         "433.33",
         "-1000000.0",
         "430104.0",
         "0.0",
         "-111100.0",
         "0.0",
         "1.0",
         "0.0",
         "0.0",
         "100.0",
         "0.0",
         "0.0",
         "70.0",
         "1995.0",
         null
        ],
        [
         "25%",
         "115.75",
         "32.0",
         "335980.25",
         "500.0",
         "1089.6075",
         "0.0",
         "448404.5",
         "0.0",
         "-51500.0",
         "6.0",
         "1.0",
         "0.0",
         "1.0",
         "41812.5",
         "4295.0",
         "4445.0",
         "30292.5",
         "2000.0",
         null
        ],
        [
         "50%",
         "199.5",
         "38.0",
         "533135.0",
         "1000.0",
         "1257.1999999999998",
         "0.0",
         "466445.5",
         "0.0",
         "-23250.0",
         "12.0",
         "1.0",
         "1.0",
         "1.0",
         "58055.0",
         "6775.0",
         "6750.0",
         "42100.0",
         "2005.0",
         null
        ],
        [
         "75%",
         "276.25",
         "44.0",
         "759099.75",
         "2000.0",
         "1415.6950000000002",
         "0.0",
         "603251.0",
         "51025.0",
         "0.0",
         "17.0",
         "3.0",
         "2.0",
         "2.0",
         "70592.5",
         "11305.0",
         "10885.0",
         "50822.5",
         "2010.0",
         null
        ],
        [
         "max",
         "479.0",
         "64.0",
         "999435.0",
         "2000.0",
         "2047.59",
         "10000000.0",
         "620962.0",
         "100500.0",
         "0.0",
         "23.0",
         "4.0",
         "2.0",
         "3.0",
         "114920.0",
         "21450.0",
         "23670.0",
         "79560.0",
         "2015.0",
         null
        ]
       ],
       "shape": {
        "columns": 19,
        "rows": 8
       }
      },
      "text/html": [
       "<div>\n",
       "<style scoped>\n",
       "    .dataframe tbody tr th:only-of-type {\n",
       "        vertical-align: middle;\n",
       "    }\n",
       "\n",
       "    .dataframe tbody tr th {\n",
       "        vertical-align: top;\n",
       "    }\n",
       "\n",
       "    .dataframe thead th {\n",
       "        text-align: right;\n",
       "    }\n",
       "</style>\n",
       "<table border=\"1\" class=\"dataframe\">\n",
       "  <thead>\n",
       "    <tr style=\"text-align: right;\">\n",
       "      <th></th>\n",
       "      <th>months_as_customer</th>\n",
       "      <th>age</th>\n",
       "      <th>policy_number</th>\n",
       "      <th>policy_deductable</th>\n",
       "      <th>policy_annual_premium</th>\n",
       "      <th>umbrella_limit</th>\n",
       "      <th>insured_zip</th>\n",
       "      <th>capital-gains</th>\n",
       "      <th>capital-loss</th>\n",
       "      <th>incident_hour_of_the_day</th>\n",
       "      <th>number_of_vehicles_involved</th>\n",
       "      <th>bodily_injuries</th>\n",
       "      <th>witnesses</th>\n",
       "      <th>total_claim_amount</th>\n",
       "      <th>injury_claim</th>\n",
       "      <th>property_claim</th>\n",
       "      <th>vehicle_claim</th>\n",
       "      <th>auto_year</th>\n",
       "      <th>_c39</th>\n",
       "    </tr>\n",
       "  </thead>\n",
       "  <tbody>\n",
       "    <tr>\n",
       "      <th>count</th>\n",
       "      <td>1000.000000</td>\n",
       "      <td>1000.000000</td>\n",
       "      <td>1000.000000</td>\n",
       "      <td>1000.000000</td>\n",
       "      <td>1000.000000</td>\n",
       "      <td>1.000000e+03</td>\n",
       "      <td>1000.000000</td>\n",
       "      <td>1000.000000</td>\n",
       "      <td>1000.000000</td>\n",
       "      <td>1000.000000</td>\n",
       "      <td>1000.00000</td>\n",
       "      <td>1000.000000</td>\n",
       "      <td>1000.000000</td>\n",
       "      <td>1000.00000</td>\n",
       "      <td>1000.000000</td>\n",
       "      <td>1000.000000</td>\n",
       "      <td>1000.000000</td>\n",
       "      <td>1000.000000</td>\n",
       "      <td>0.0</td>\n",
       "    </tr>\n",
       "    <tr>\n",
       "      <th>mean</th>\n",
       "      <td>203.954000</td>\n",
       "      <td>38.948000</td>\n",
       "      <td>546238.648000</td>\n",
       "      <td>1136.000000</td>\n",
       "      <td>1256.406150</td>\n",
       "      <td>1.101000e+06</td>\n",
       "      <td>501214.488000</td>\n",
       "      <td>25126.100000</td>\n",
       "      <td>-26793.700000</td>\n",
       "      <td>11.644000</td>\n",
       "      <td>1.83900</td>\n",
       "      <td>0.992000</td>\n",
       "      <td>1.487000</td>\n",
       "      <td>52761.94000</td>\n",
       "      <td>7433.420000</td>\n",
       "      <td>7399.570000</td>\n",
       "      <td>37928.950000</td>\n",
       "      <td>2005.103000</td>\n",
       "      <td>NaN</td>\n",
       "    </tr>\n",
       "    <tr>\n",
       "      <th>std</th>\n",
       "      <td>115.113174</td>\n",
       "      <td>9.140287</td>\n",
       "      <td>257063.005276</td>\n",
       "      <td>611.864673</td>\n",
       "      <td>244.167395</td>\n",
       "      <td>2.297407e+06</td>\n",
       "      <td>71701.610941</td>\n",
       "      <td>27872.187708</td>\n",
       "      <td>28104.096686</td>\n",
       "      <td>6.951373</td>\n",
       "      <td>1.01888</td>\n",
       "      <td>0.820127</td>\n",
       "      <td>1.111335</td>\n",
       "      <td>26401.53319</td>\n",
       "      <td>4880.951853</td>\n",
       "      <td>4824.726179</td>\n",
       "      <td>18886.252893</td>\n",
       "      <td>6.015861</td>\n",
       "      <td>NaN</td>\n",
       "    </tr>\n",
       "    <tr>\n",
       "      <th>min</th>\n",
       "      <td>0.000000</td>\n",
       "      <td>19.000000</td>\n",
       "      <td>100804.000000</td>\n",
       "      <td>500.000000</td>\n",
       "      <td>433.330000</td>\n",
       "      <td>-1.000000e+06</td>\n",
       "      <td>430104.000000</td>\n",
       "      <td>0.000000</td>\n",
       "      <td>-111100.000000</td>\n",
       "      <td>0.000000</td>\n",
       "      <td>1.00000</td>\n",
       "      <td>0.000000</td>\n",
       "      <td>0.000000</td>\n",
       "      <td>100.00000</td>\n",
       "      <td>0.000000</td>\n",
       "      <td>0.000000</td>\n",
       "      <td>70.000000</td>\n",
       "      <td>1995.000000</td>\n",
       "      <td>NaN</td>\n",
       "    </tr>\n",
       "    <tr>\n",
       "      <th>25%</th>\n",
       "      <td>115.750000</td>\n",
       "      <td>32.000000</td>\n",
       "      <td>335980.250000</td>\n",
       "      <td>500.000000</td>\n",
       "      <td>1089.607500</td>\n",
       "      <td>0.000000e+00</td>\n",
       "      <td>448404.500000</td>\n",
       "      <td>0.000000</td>\n",
       "      <td>-51500.000000</td>\n",
       "      <td>6.000000</td>\n",
       "      <td>1.00000</td>\n",
       "      <td>0.000000</td>\n",
       "      <td>1.000000</td>\n",
       "      <td>41812.50000</td>\n",
       "      <td>4295.000000</td>\n",
       "      <td>4445.000000</td>\n",
       "      <td>30292.500000</td>\n",
       "      <td>2000.000000</td>\n",
       "      <td>NaN</td>\n",
       "    </tr>\n",
       "    <tr>\n",
       "      <th>50%</th>\n",
       "      <td>199.500000</td>\n",
       "      <td>38.000000</td>\n",
       "      <td>533135.000000</td>\n",
       "      <td>1000.000000</td>\n",
       "      <td>1257.200000</td>\n",
       "      <td>0.000000e+00</td>\n",
       "      <td>466445.500000</td>\n",
       "      <td>0.000000</td>\n",
       "      <td>-23250.000000</td>\n",
       "      <td>12.000000</td>\n",
       "      <td>1.00000</td>\n",
       "      <td>1.000000</td>\n",
       "      <td>1.000000</td>\n",
       "      <td>58055.00000</td>\n",
       "      <td>6775.000000</td>\n",
       "      <td>6750.000000</td>\n",
       "      <td>42100.000000</td>\n",
       "      <td>2005.000000</td>\n",
       "      <td>NaN</td>\n",
       "    </tr>\n",
       "    <tr>\n",
       "      <th>75%</th>\n",
       "      <td>276.250000</td>\n",
       "      <td>44.000000</td>\n",
       "      <td>759099.750000</td>\n",
       "      <td>2000.000000</td>\n",
       "      <td>1415.695000</td>\n",
       "      <td>0.000000e+00</td>\n",
       "      <td>603251.000000</td>\n",
       "      <td>51025.000000</td>\n",
       "      <td>0.000000</td>\n",
       "      <td>17.000000</td>\n",
       "      <td>3.00000</td>\n",
       "      <td>2.000000</td>\n",
       "      <td>2.000000</td>\n",
       "      <td>70592.50000</td>\n",
       "      <td>11305.000000</td>\n",
       "      <td>10885.000000</td>\n",
       "      <td>50822.500000</td>\n",
       "      <td>2010.000000</td>\n",
       "      <td>NaN</td>\n",
       "    </tr>\n",
       "    <tr>\n",
       "      <th>max</th>\n",
       "      <td>479.000000</td>\n",
       "      <td>64.000000</td>\n",
       "      <td>999435.000000</td>\n",
       "      <td>2000.000000</td>\n",
       "      <td>2047.590000</td>\n",
       "      <td>1.000000e+07</td>\n",
       "      <td>620962.000000</td>\n",
       "      <td>100500.000000</td>\n",
       "      <td>0.000000</td>\n",
       "      <td>23.000000</td>\n",
       "      <td>4.00000</td>\n",
       "      <td>2.000000</td>\n",
       "      <td>3.000000</td>\n",
       "      <td>114920.00000</td>\n",
       "      <td>21450.000000</td>\n",
       "      <td>23670.000000</td>\n",
       "      <td>79560.000000</td>\n",
       "      <td>2015.000000</td>\n",
       "      <td>NaN</td>\n",
       "    </tr>\n",
       "  </tbody>\n",
       "</table>\n",
       "</div>"
      ],
      "text/plain": [
       "       months_as_customer          age  policy_number  policy_deductable  \\\n",
       "count         1000.000000  1000.000000    1000.000000        1000.000000   \n",
       "mean           203.954000    38.948000  546238.648000        1136.000000   \n",
       "std            115.113174     9.140287  257063.005276         611.864673   \n",
       "min              0.000000    19.000000  100804.000000         500.000000   \n",
       "25%            115.750000    32.000000  335980.250000         500.000000   \n",
       "50%            199.500000    38.000000  533135.000000        1000.000000   \n",
       "75%            276.250000    44.000000  759099.750000        2000.000000   \n",
       "max            479.000000    64.000000  999435.000000        2000.000000   \n",
       "\n",
       "       policy_annual_premium  umbrella_limit    insured_zip  capital-gains  \\\n",
       "count            1000.000000    1.000000e+03    1000.000000    1000.000000   \n",
       "mean             1256.406150    1.101000e+06  501214.488000   25126.100000   \n",
       "std               244.167395    2.297407e+06   71701.610941   27872.187708   \n",
       "min               433.330000   -1.000000e+06  430104.000000       0.000000   \n",
       "25%              1089.607500    0.000000e+00  448404.500000       0.000000   \n",
       "50%              1257.200000    0.000000e+00  466445.500000       0.000000   \n",
       "75%              1415.695000    0.000000e+00  603251.000000   51025.000000   \n",
       "max              2047.590000    1.000000e+07  620962.000000  100500.000000   \n",
       "\n",
       "        capital-loss  incident_hour_of_the_day  number_of_vehicles_involved  \\\n",
       "count    1000.000000               1000.000000                   1000.00000   \n",
       "mean   -26793.700000                 11.644000                      1.83900   \n",
       "std     28104.096686                  6.951373                      1.01888   \n",
       "min   -111100.000000                  0.000000                      1.00000   \n",
       "25%    -51500.000000                  6.000000                      1.00000   \n",
       "50%    -23250.000000                 12.000000                      1.00000   \n",
       "75%         0.000000                 17.000000                      3.00000   \n",
       "max         0.000000                 23.000000                      4.00000   \n",
       "\n",
       "       bodily_injuries    witnesses  total_claim_amount  injury_claim  \\\n",
       "count      1000.000000  1000.000000          1000.00000   1000.000000   \n",
       "mean          0.992000     1.487000         52761.94000   7433.420000   \n",
       "std           0.820127     1.111335         26401.53319   4880.951853   \n",
       "min           0.000000     0.000000           100.00000      0.000000   \n",
       "25%           0.000000     1.000000         41812.50000   4295.000000   \n",
       "50%           1.000000     1.000000         58055.00000   6775.000000   \n",
       "75%           2.000000     2.000000         70592.50000  11305.000000   \n",
       "max           2.000000     3.000000        114920.00000  21450.000000   \n",
       "\n",
       "       property_claim  vehicle_claim    auto_year  _c39  \n",
       "count     1000.000000    1000.000000  1000.000000   0.0  \n",
       "mean      7399.570000   37928.950000  2005.103000   NaN  \n",
       "std       4824.726179   18886.252893     6.015861   NaN  \n",
       "min          0.000000      70.000000  1995.000000   NaN  \n",
       "25%       4445.000000   30292.500000  2000.000000   NaN  \n",
       "50%       6750.000000   42100.000000  2005.000000   NaN  \n",
       "75%      10885.000000   50822.500000  2010.000000   NaN  \n",
       "max      23670.000000   79560.000000  2015.000000   NaN  "
      ]
     },
     "execution_count": 53,
     "metadata": {},
     "output_type": "execute_result"
    }
   ],
   "source": [
    "# Inspect the features in the dataset\n",
    "df.describe()"
   ]
  },
  {
   "cell_type": "markdown",
   "metadata": {
    "id": "YRijmf2EDPWa"
   },
   "source": [
    "## **2. Data Cleaning** <font color = red>[10 marks]</font>"
   ]
  },
  {
   "cell_type": "markdown",
   "metadata": {
    "id": "DxXOACINDPWa"
   },
   "source": [
    "### **2.1 Handle null values** <font color = red>[2 marks]</font>"
   ]
  },
  {
   "cell_type": "markdown",
   "metadata": {
    "id": "kJDjZSkmDPWa"
   },
   "source": [
    "#### **2.1.1** Examine the columns to determine if any value or column needs to be treated <font color=\"red\">[1 Mark]</font>"
   ]
  },
  {
   "cell_type": "code",
   "execution_count": 54,
   "metadata": {
    "id": "3B4OtvQlDPWa"
   },
   "outputs": [
    {
     "name": "stdout",
     "output_type": "stream",
     "text": [
      "['authorities_contacted', '_c39']\n",
      "nan_counts months_as_customer                0\n",
      "age                               0\n",
      "policy_number                     0\n",
      "policy_bind_date                  0\n",
      "policy_state                      0\n",
      "policy_csl                        0\n",
      "policy_deductable                 0\n",
      "policy_annual_premium             0\n",
      "umbrella_limit                    0\n",
      "insured_zip                       0\n",
      "insured_sex                       0\n",
      "insured_education_level           0\n",
      "insured_occupation                0\n",
      "insured_hobbies                   0\n",
      "insured_relationship              0\n",
      "capital-gains                     0\n",
      "capital-loss                      0\n",
      "incident_date                     0\n",
      "incident_type                     0\n",
      "collision_type                    0\n",
      "incident_severity                 0\n",
      "authorities_contacted            91\n",
      "incident_state                    0\n",
      "incident_city                     0\n",
      "incident_location                 0\n",
      "incident_hour_of_the_day          0\n",
      "number_of_vehicles_involved       0\n",
      "property_damage                   0\n",
      "bodily_injuries                   0\n",
      "witnesses                         0\n",
      "police_report_available           0\n",
      "total_claim_amount                0\n",
      "injury_claim                      0\n",
      "property_claim                    0\n",
      "vehicle_claim                     0\n",
      "auto_make                         0\n",
      "auto_model                        0\n",
      "auto_year                         0\n",
      "fraud_reported                    0\n",
      "_c39                           1000\n",
      "dtype: int64\n"
     ]
    }
   ],
   "source": [
    "# Check the number of missing values in each column\n",
    "nanColumms  = df.columns[df.isna().any()]\n",
    "print(nanColumms.tolist())\n",
    "print(f'nan_counts {df.isna().sum()}')"
   ]
  },
  {
   "cell_type": "markdown",
   "metadata": {
    "id": "AE6K2iqkDPWb"
   },
   "source": [
    "#### **2.1.2** Handle rows containing null values <font color=\"red\">[1 Mark]</font>"
   ]
  },
  {
   "cell_type": "code",
   "execution_count": 55,
   "metadata": {
    "id": "88PX2r5hDPWb"
   },
   "outputs": [],
   "source": [
    "# Handle the rows containing null values\n",
    "df['authorities_contacted'].value_counts()\n",
    "\n",
    "#For Authorities_Contacted we will impute the value with other as dropping it will reduce our dataset by ~10%\n",
    "df['authorities_contacted'].fillna('Other', inplace=True)  \n",
    "\n",
    "\n"
   ]
  },
  {
   "cell_type": "markdown",
   "metadata": {
    "id": "202JyqOjDPWb"
   },
   "source": [
    "### **2.2 Identify and handle redundant values and columns** <font color = red>[5 marks]</font>"
   ]
  },
  {
   "cell_type": "markdown",
   "metadata": {
    "id": "fSh2wYZoDPWb"
   },
   "source": [
    "#### **2.2.1** Examine the columns to determine if any value or column needs to be treated <font color=\"red\">[2 Mark]</font>"
   ]
  },
  {
   "cell_type": "code",
   "execution_count": 56,
   "metadata": {
    "id": "1x0Cn8BiDPWb"
   },
   "outputs": [
    {
     "name": "stdout",
     "output_type": "stream",
     "text": [
      "\n",
      "*************************\n",
      "Column : months_as_customer\n",
      "Data Type: int64\n",
      "Number of Unique values 391\n",
      "Unique Values [328 228 134 256 137 165  27 212 235 447]\n",
      "\n",
      "*************************\n",
      "Column : age\n",
      "Data Type: int64\n",
      "Number of Unique values 46\n",
      "Unique Values [48 42 29 41 44 39 34 37 33 61]\n",
      "\n",
      "*************************\n",
      "Column : policy_number\n",
      "Data Type: int64\n",
      "Number of Unique values 1000\n",
      "Unique Values [521585 342868 687698 227811 367455 104594 413978 429027 485665 636550]\n",
      "\n",
      "*************************\n",
      "Column : policy_bind_date\n",
      "Data Type: object\n",
      "Number of Unique values 951\n",
      "Unique Values ['2014-10-17' '2006-06-27' '2000-09-06' '1990-05-25' '2014-06-06'\n",
      " '2006-10-12' '2000-06-04' '1990-02-03' '1997-02-05' '2011-07-25']\n",
      "\n",
      "*************************\n",
      "Column : policy_state\n",
      "Data Type: object\n",
      "Number of Unique values 3\n",
      "Unique Values ['OH' 'IN' 'IL']\n",
      "\n",
      "Value Distribution:\n",
      "policy_state\n",
      "OH    35.2\n",
      "IL    33.8\n",
      "IN    31.0\n",
      "Name: proportion, dtype: float64\n",
      "\n",
      "*************************\n",
      "Column : policy_csl\n",
      "Data Type: object\n",
      "Number of Unique values 3\n",
      "Unique Values ['250/500' '100/300' '500/1000']\n",
      "\n",
      "Value Distribution:\n",
      "policy_csl\n",
      "250/500     35.1\n",
      "100/300     34.9\n",
      "500/1000    30.0\n",
      "Name: proportion, dtype: float64\n",
      "\n",
      "*************************\n",
      "Column : policy_deductable\n",
      "Data Type: int64\n",
      "Number of Unique values 3\n",
      "Unique Values [1000 2000  500]\n",
      "\n",
      "Value Distribution:\n",
      "policy_deductable\n",
      "1000    35.1\n",
      "500     34.2\n",
      "2000    30.7\n",
      "Name: proportion, dtype: float64\n",
      "\n",
      "*************************\n",
      "Column : policy_annual_premium\n",
      "Data Type: float64\n",
      "Number of Unique values 991\n",
      "Unique Values [1406.91 1197.22 1413.14 1415.74 1583.91 1351.1  1333.35 1137.03 1442.99\n",
      " 1315.68]\n",
      "\n",
      "*************************\n",
      "Column : umbrella_limit\n",
      "Data Type: int64\n",
      "Number of Unique values 11\n",
      "Unique Values [       0  5000000  6000000  4000000  3000000  8000000  7000000  9000000\n",
      " 10000000 -1000000]\n",
      "\n",
      "Value Distribution:\n",
      "umbrella_limit\n",
      " 0           79.8\n",
      " 6000000      5.7\n",
      " 5000000      4.6\n",
      " 4000000      3.9\n",
      " 7000000      2.9\n",
      " 3000000      1.2\n",
      " 8000000      0.8\n",
      " 9000000      0.5\n",
      " 2000000      0.3\n",
      " 10000000     0.2\n",
      "-1000000      0.1\n",
      "Name: proportion, dtype: float64\n",
      "\n",
      "*************************\n",
      "Column : insured_zip\n",
      "Data Type: int64\n",
      "Number of Unique values 995\n",
      "Unique Values [466132 468176 430632 608117 610706 478456 441716 603195 601734 600983]\n",
      "\n",
      "*************************\n",
      "Column : insured_sex\n",
      "Data Type: object\n",
      "Number of Unique values 2\n",
      "Unique Values ['MALE' 'FEMALE']\n",
      "\n",
      "Value Distribution:\n",
      "insured_sex\n",
      "FEMALE    53.7\n",
      "MALE      46.3\n",
      "Name: proportion, dtype: float64\n",
      "\n",
      "*************************\n",
      "Column : insured_education_level\n",
      "Data Type: object\n",
      "Number of Unique values 7\n",
      "Unique Values ['MD' 'PhD' 'Associate' 'Masters' 'High School' 'College' 'JD']\n",
      "\n",
      "Value Distribution:\n",
      "insured_education_level\n",
      "JD             16.1\n",
      "High School    16.0\n",
      "Associate      14.5\n",
      "MD             14.4\n",
      "Masters        14.3\n",
      "PhD            12.5\n",
      "College        12.2\n",
      "Name: proportion, dtype: float64\n",
      "\n",
      "*************************\n",
      "Column : insured_occupation\n",
      "Data Type: object\n",
      "Number of Unique values 14\n",
      "Unique Values ['craft-repair' 'machine-op-inspct' 'sales' 'armed-forces' 'tech-support'\n",
      " 'prof-specialty' 'other-service' 'priv-house-serv' 'exec-managerial'\n",
      " 'protective-serv']\n",
      "\n",
      "*************************\n",
      "Column : insured_hobbies\n",
      "Data Type: object\n",
      "Number of Unique values 20\n",
      "Unique Values ['sleeping' 'reading' 'board-games' 'bungie-jumping' 'base-jumping' 'golf'\n",
      " 'camping' 'dancing' 'skydiving' 'movies']\n",
      "\n",
      "*************************\n",
      "Column : insured_relationship\n",
      "Data Type: object\n",
      "Number of Unique values 6\n",
      "Unique Values ['husband' 'other-relative' 'own-child' 'unmarried' 'wife' 'not-in-family']\n",
      "\n",
      "Value Distribution:\n",
      "insured_relationship\n",
      "own-child         18.3\n",
      "other-relative    17.7\n",
      "not-in-family     17.4\n",
      "husband           17.0\n",
      "wife              15.5\n",
      "unmarried         14.1\n",
      "Name: proportion, dtype: float64\n",
      "\n",
      "*************************\n",
      "Column : capital-gains\n",
      "Data Type: int64\n",
      "Number of Unique values 338\n",
      "Unique Values [53300     0 35100 48900 66000 38400 52800 41300 55700 63600]\n",
      "\n",
      "*************************\n",
      "Column : capital-loss\n",
      "Data Type: int64\n",
      "Number of Unique values 354\n",
      "Unique Values [     0 -62400 -46000 -77000 -39300 -51000 -32800 -55500 -37800 -27300]\n",
      "\n",
      "*************************\n",
      "Column : incident_date\n",
      "Data Type: object\n",
      "Number of Unique values 60\n",
      "Unique Values ['2015-01-25' '2015-01-21' '2015-02-22' '2015-01-10' '2015-02-17'\n",
      " '2015-01-02' '2015-01-13' '2015-02-27' '2015-01-30' '2015-01-05']\n",
      "\n",
      "*************************\n",
      "Column : incident_type\n",
      "Data Type: object\n",
      "Number of Unique values 4\n",
      "Unique Values ['Single Vehicle Collision' 'Vehicle Theft' 'Multi-vehicle Collision'\n",
      " 'Parked Car']\n",
      "\n",
      "Value Distribution:\n",
      "incident_type\n",
      "Multi-vehicle Collision     41.9\n",
      "Single Vehicle Collision    40.3\n",
      "Vehicle Theft                9.4\n",
      "Parked Car                   8.4\n",
      "Name: proportion, dtype: float64\n",
      "\n",
      "*************************\n",
      "Column : collision_type\n",
      "Data Type: object\n",
      "Number of Unique values 4\n",
      "Unique Values ['Side Collision' '?' 'Rear Collision' 'Front Collision']\n",
      "\n",
      "Value Distribution:\n",
      "collision_type\n",
      "Rear Collision     29.2\n",
      "Side Collision     27.6\n",
      "Front Collision    25.4\n",
      "?                  17.8\n",
      "Name: proportion, dtype: float64\n",
      "\n",
      "*************************\n",
      "Column : incident_severity\n",
      "Data Type: object\n",
      "Number of Unique values 4\n",
      "Unique Values ['Major Damage' 'Minor Damage' 'Total Loss' 'Trivial Damage']\n",
      "\n",
      "Value Distribution:\n",
      "incident_severity\n",
      "Minor Damage      35.4\n",
      "Total Loss        28.0\n",
      "Major Damage      27.6\n",
      "Trivial Damage     9.0\n",
      "Name: proportion, dtype: float64\n",
      "\n",
      "*************************\n",
      "Column : authorities_contacted\n",
      "Data Type: object\n",
      "Number of Unique values 4\n",
      "Unique Values ['Police' 'Other' 'Fire' 'Ambulance']\n",
      "\n",
      "Value Distribution:\n",
      "authorities_contacted\n",
      "Police       29.2\n",
      "Other        28.9\n",
      "Fire         22.3\n",
      "Ambulance    19.6\n",
      "Name: proportion, dtype: float64\n",
      "\n",
      "*************************\n",
      "Column : incident_state\n",
      "Data Type: object\n",
      "Number of Unique values 7\n",
      "Unique Values ['SC' 'VA' 'NY' 'OH' 'WV' 'NC' 'PA']\n",
      "\n",
      "Value Distribution:\n",
      "incident_state\n",
      "NY    26.2\n",
      "SC    24.8\n",
      "WV    21.7\n",
      "VA    11.0\n",
      "NC    11.0\n",
      "PA     3.0\n",
      "OH     2.3\n",
      "Name: proportion, dtype: float64\n",
      "\n",
      "*************************\n",
      "Column : incident_city\n",
      "Data Type: object\n",
      "Number of Unique values 7\n",
      "Unique Values ['Columbus' 'Riverwood' 'Arlington' 'Springfield' 'Hillsdale' 'Northbend'\n",
      " 'Northbrook']\n",
      "\n",
      "Value Distribution:\n",
      "incident_city\n",
      "Springfield    15.7\n",
      "Arlington      15.2\n",
      "Columbus       14.9\n",
      "Northbend      14.5\n",
      "Hillsdale      14.1\n",
      "Riverwood      13.4\n",
      "Northbrook     12.2\n",
      "Name: proportion, dtype: float64\n",
      "\n",
      "*************************\n",
      "Column : incident_location\n",
      "Data Type: object\n",
      "Number of Unique values 1000\n",
      "Unique Values ['9935 4th Drive' '6608 MLK Hwy' '7121 Francis Lane' '6956 Maple Drive'\n",
      " '3041 3rd Ave' '8973 Washington St' '5846 Weaver Drive' '3525 3rd Hwy'\n",
      " '4872 Rock Ridge' '3066 Francis Ave']\n",
      "\n",
      "*************************\n",
      "Column : incident_hour_of_the_day\n",
      "Data Type: int64\n",
      "Number of Unique values 24\n",
      "Unique Values [ 5  8  7 20 19  0 23 21 14 22]\n",
      "\n",
      "*************************\n",
      "Column : number_of_vehicles_involved\n",
      "Data Type: int64\n",
      "Number of Unique values 4\n",
      "Unique Values [1 3 4 2]\n",
      "\n",
      "Value Distribution:\n",
      "number_of_vehicles_involved\n",
      "1    58.1\n",
      "3    35.8\n",
      "4     3.1\n",
      "2     3.0\n",
      "Name: proportion, dtype: float64\n",
      "\n",
      "*************************\n",
      "Column : property_damage\n",
      "Data Type: object\n",
      "Number of Unique values 3\n",
      "Unique Values ['YES' '?' 'NO']\n",
      "\n",
      "Value Distribution:\n",
      "property_damage\n",
      "?      36.0\n",
      "NO     33.8\n",
      "YES    30.2\n",
      "Name: proportion, dtype: float64\n",
      "\n",
      "*************************\n",
      "Column : bodily_injuries\n",
      "Data Type: int64\n",
      "Number of Unique values 3\n",
      "Unique Values [1 0 2]\n",
      "\n",
      "Value Distribution:\n",
      "bodily_injuries\n",
      "0    34.0\n",
      "2    33.2\n",
      "1    32.8\n",
      "Name: proportion, dtype: float64\n",
      "\n",
      "*************************\n",
      "Column : witnesses\n",
      "Data Type: int64\n",
      "Number of Unique values 4\n",
      "Unique Values [2 0 3 1]\n",
      "\n",
      "Value Distribution:\n",
      "witnesses\n",
      "1    25.8\n",
      "2    25.0\n",
      "0    24.9\n",
      "3    24.3\n",
      "Name: proportion, dtype: float64\n",
      "\n",
      "*************************\n",
      "Column : police_report_available\n",
      "Data Type: object\n",
      "Number of Unique values 3\n",
      "Unique Values ['YES' '?' 'NO']\n",
      "\n",
      "Value Distribution:\n",
      "police_report_available\n",
      "?      34.3\n",
      "NO     34.3\n",
      "YES    31.4\n",
      "Name: proportion, dtype: float64\n",
      "\n",
      "*************************\n",
      "Column : total_claim_amount\n",
      "Data Type: int64\n",
      "Number of Unique values 763\n",
      "Unique Values [71610  5070 34650 63400  6500 64100 78650 51590 27700 42300]\n",
      "\n",
      "*************************\n",
      "Column : injury_claim\n",
      "Data Type: int64\n",
      "Number of Unique values 638\n",
      "Unique Values [ 6510   780  7700  6340  1300  6410 21450  9380  2770  4700]\n",
      "\n",
      "*************************\n",
      "Column : property_claim\n",
      "Data Type: int64\n",
      "Number of Unique values 626\n",
      "Unique Values [13020   780  3850  6340   650  6410  7150  9380  2770  4700]\n",
      "\n",
      "*************************\n",
      "Column : vehicle_claim\n",
      "Data Type: int64\n",
      "Number of Unique values 726\n",
      "Unique Values [52080  3510 23100 50720  4550 51280 50050 32830 22160 32900]\n",
      "\n",
      "*************************\n",
      "Column : auto_make\n",
      "Data Type: object\n",
      "Number of Unique values 14\n",
      "Unique Values ['Saab' 'Mercedes' 'Dodge' 'Chevrolet' 'Accura' 'Nissan' 'Audi' 'Toyota'\n",
      " 'Ford' 'Suburu']\n",
      "\n",
      "*************************\n",
      "Column : auto_model\n",
      "Data Type: object\n",
      "Number of Unique values 39\n",
      "Unique Values ['92x' 'E400' 'RAM' 'Tahoe' 'RSX' '95' 'Pathfinder' 'A5' 'Camry' 'F150']\n",
      "\n",
      "*************************\n",
      "Column : auto_year\n",
      "Data Type: int64\n",
      "Number of Unique values 21\n",
      "Unique Values [2004 2007 2014 2009 2003 2012 2015 1996 2002 2006]\n",
      "\n",
      "*************************\n",
      "Column : fraud_reported\n",
      "Data Type: object\n",
      "Number of Unique values 2\n",
      "Unique Values ['Y' 'N']\n",
      "\n",
      "Value Distribution:\n",
      "fraud_reported\n",
      "N    75.3\n",
      "Y    24.7\n",
      "Name: proportion, dtype: float64\n",
      "\n",
      "*************************\n",
      "Column : _c39\n",
      "Data Type: float64\n",
      "Number of Unique values 0\n",
      "Unique Values [nan]\n",
      "\n",
      "Value Distribution:\n",
      "Series([], Name: proportion, dtype: float64)\n"
     ]
    }
   ],
   "source": [
    "# Write code to display all the columns with their unique values and counts and check for redundant values\n",
    "def giveColumns(dataframe): \n",
    "    for col in df.columns:\n",
    "        print(f\"\\n{'*'*25}\")        \n",
    "        print(f'Column : {col}') \n",
    "        print(f\"Data Type: {df[col].dtype}\")\n",
    "        print(f'Number of Unique values {df[col].nunique()}') \n",
    "        print(f'Unique Values {df[col].unique()[:10]}') #Cap at 10 so that numerical variables might not give huge values\n",
    "        \n",
    "        if(df[col].nunique() < 12):\n",
    "            print(\"\\nValue Distribution:\")\n",
    "            value_counts = df[col].value_counts(normalize=True) * 100\n",
    "            print(value_counts.round(2)) \n",
    "            \n",
    "giveColumns(dataframe=df)"
   ]
  },
  {
   "cell_type": "markdown",
   "metadata": {
    "id": "RRIhr3ZwDPWb"
   },
   "source": [
    "#### **2.2.2** Identify and drop any columns that are completely empty <font color=\"red\">[1 Mark]</font>"
   ]
  },
  {
   "cell_type": "code",
   "execution_count": 57,
   "metadata": {
    "id": "9vLZf8ExDPWb"
   },
   "outputs": [],
   "source": [
    "# Identify and drop any columns that are completely empty\n",
    "\n",
    "#Drop _c39 Column as it is not useful \n",
    "df.drop(columns=['_c39'], inplace= True)"
   ]
  },
  {
   "cell_type": "markdown",
   "metadata": {
    "id": "1Cx8douODPWd"
   },
   "source": [
    "#### **2.2.3** Identify and drop rows where features have illogical or invalid values, such as negative values for features that should only have positive values <font color=\"red\">[1 Mark]</font>"
   ]
  },
  {
   "cell_type": "code",
   "execution_count": 58,
   "metadata": {
    "id": "U5oARc23DPWd"
   },
   "outputs": [
    {
     "name": "stdout",
     "output_type": "stream",
     "text": [
      "1000 , 999 \n",
      "     months_as_customer  age  policy_number policy_bind_date policy_state  \\\n",
      "0                   328   48         521585       2014-10-17           OH   \n",
      "1                   228   42         342868       2006-06-27           IN   \n",
      "2                   134   29         687698       2000-09-06           OH   \n",
      "3                   256   41         227811       1990-05-25           IL   \n",
      "4                   228   44         367455       2014-06-06           IL   \n",
      "..                  ...  ...            ...              ...          ...   \n",
      "995                   3   38         941851       1991-07-16           OH   \n",
      "996                 285   41         186934       2014-01-05           IL   \n",
      "997                 130   34         918516       2003-02-17           OH   \n",
      "998                 458   62         533940       2011-11-18           IL   \n",
      "999                 456   60         556080       1996-11-11           OH   \n",
      "\n",
      "    policy_csl  policy_deductable  policy_annual_premium  umbrella_limit  \\\n",
      "0      250/500               1000                1406.91               0   \n",
      "1      250/500               2000                1197.22         5000000   \n",
      "2      100/300               2000                1413.14         5000000   \n",
      "3      250/500               2000                1415.74         6000000   \n",
      "4     500/1000               1000                1583.91         6000000   \n",
      "..         ...                ...                    ...             ...   \n",
      "995   500/1000               1000                1310.80               0   \n",
      "996    100/300               1000                1436.79               0   \n",
      "997    250/500                500                1383.49         3000000   \n",
      "998   500/1000               2000                1356.92         5000000   \n",
      "999    250/500               1000                 766.19               0   \n",
      "\n",
      "     insured_zip  ... witnesses police_report_available total_claim_amount  \\\n",
      "0         466132  ...         2                     YES              71610   \n",
      "1         468176  ...         0                       ?               5070   \n",
      "2         430632  ...         3                      NO              34650   \n",
      "3         608117  ...         2                      NO              63400   \n",
      "4         610706  ...         1                      NO               6500   \n",
      "..           ...  ...       ...                     ...                ...   \n",
      "995       431289  ...         1                       ?              87200   \n",
      "996       608177  ...         3                       ?             108480   \n",
      "997       442797  ...         3                     YES              67500   \n",
      "998       441714  ...         1                     YES              46980   \n",
      "999       612260  ...         3                       ?               5060   \n",
      "\n",
      "    injury_claim property_claim  vehicle_claim   auto_make auto_model  \\\n",
      "0           6510          13020          52080        Saab        92x   \n",
      "1            780            780           3510    Mercedes       E400   \n",
      "2           7700           3850          23100       Dodge        RAM   \n",
      "3           6340           6340          50720   Chevrolet      Tahoe   \n",
      "4           1300            650           4550      Accura        RSX   \n",
      "..           ...            ...            ...         ...        ...   \n",
      "995        17440           8720          61040       Honda     Accord   \n",
      "996        18080          18080          72320  Volkswagen     Passat   \n",
      "997         7500           7500          52500      Suburu    Impreza   \n",
      "998         5220           5220          36540        Audi         A5   \n",
      "999          460            920           3680    Mercedes       E400   \n",
      "\n",
      "    auto_year fraud_reported  \n",
      "0        2004              Y  \n",
      "1        2007              Y  \n",
      "2        2007              N  \n",
      "3        2014              Y  \n",
      "4        2009              N  \n",
      "..        ...            ...  \n",
      "995      2006              N  \n",
      "996      2015              N  \n",
      "997      1996              N  \n",
      "998      1998              N  \n",
      "999      2007              N  \n",
      "\n",
      "[999 rows x 39 columns]\n"
     ]
    }
   ],
   "source": [
    "# Identify and drop rows where features have illogical or invalid values, such as negative values for features that should only have positive values\n",
    "\n",
    "data = df.copy(deep= True) #Use a deep copy now for removal \n",
    "\n",
    "data = data[data['umbrella_limit']  >= 0 ] # Remove one negative value \n",
    "\n",
    "data['capital-loss'] = data['capital-loss'].apply(lambda x: x if x >0 else -x) #Set Capital Losses as a positive value for better readability \n",
    "\n",
    "\n",
    "print(f'{len(df)} , {len(data)} ') \n",
    "print(data)"
   ]
  },
  {
   "cell_type": "markdown",
   "metadata": {
    "id": "XTGMKeeNDPWd"
   },
   "source": [
    "#### **2.2.4** Identify and remove columns where a large proportion of the values are unique or near-unique, as these columns are likely to be identifiers or have very limited predictive power <font color=\"red\">[1 Mark]</font>"
   ]
  },
  {
   "cell_type": "code",
   "execution_count": 59,
   "metadata": {
    "id": "U4LXO65UDPWd"
   },
   "outputs": [],
   "source": [
    "# Identify and remove columns that are likely to be identifiers or have very limited predictive power\n",
    "\n",
    "#We could remove umbrella limit as it mostly 80% ~ 0 , PLociy Deductable 35 ~ 35 ~ 35 % split and number of vehicles involved with a 70%,27,2,1 split\n",
    "\n",
    "data.drop(columns=['umbrella_limit'] , inplace= True )"
   ]
  },
  {
   "cell_type": "code",
   "execution_count": 60,
   "metadata": {
    "id": "KzHx2BzPDPWd"
   },
   "outputs": [
    {
     "data": {
      "application/vnd.microsoft.datawrangler.viewer.v0+json": {
       "columns": [
        {
         "name": "index",
         "rawType": "int64",
         "type": "integer"
        },
        {
         "name": "months_as_customer",
         "rawType": "int64",
         "type": "integer"
        },
        {
         "name": "age",
         "rawType": "int64",
         "type": "integer"
        },
        {
         "name": "policy_number",
         "rawType": "int64",
         "type": "integer"
        },
        {
         "name": "policy_bind_date",
         "rawType": "object",
         "type": "string"
        },
        {
         "name": "policy_state",
         "rawType": "object",
         "type": "string"
        },
        {
         "name": "policy_csl",
         "rawType": "object",
         "type": "string"
        },
        {
         "name": "policy_deductable",
         "rawType": "int64",
         "type": "integer"
        },
        {
         "name": "policy_annual_premium",
         "rawType": "float64",
         "type": "float"
        },
        {
         "name": "insured_zip",
         "rawType": "int64",
         "type": "integer"
        },
        {
         "name": "insured_sex",
         "rawType": "object",
         "type": "string"
        },
        {
         "name": "insured_education_level",
         "rawType": "object",
         "type": "string"
        },
        {
         "name": "insured_occupation",
         "rawType": "object",
         "type": "string"
        },
        {
         "name": "insured_hobbies",
         "rawType": "object",
         "type": "string"
        },
        {
         "name": "insured_relationship",
         "rawType": "object",
         "type": "string"
        },
        {
         "name": "capital-gains",
         "rawType": "int64",
         "type": "integer"
        },
        {
         "name": "capital-loss",
         "rawType": "int64",
         "type": "integer"
        },
        {
         "name": "incident_date",
         "rawType": "object",
         "type": "string"
        },
        {
         "name": "incident_type",
         "rawType": "object",
         "type": "string"
        },
        {
         "name": "collision_type",
         "rawType": "object",
         "type": "string"
        },
        {
         "name": "incident_severity",
         "rawType": "object",
         "type": "string"
        },
        {
         "name": "authorities_contacted",
         "rawType": "object",
         "type": "string"
        },
        {
         "name": "incident_state",
         "rawType": "object",
         "type": "string"
        },
        {
         "name": "incident_city",
         "rawType": "object",
         "type": "string"
        },
        {
         "name": "incident_location",
         "rawType": "object",
         "type": "string"
        },
        {
         "name": "incident_hour_of_the_day",
         "rawType": "int64",
         "type": "integer"
        },
        {
         "name": "number_of_vehicles_involved",
         "rawType": "int64",
         "type": "integer"
        },
        {
         "name": "property_damage",
         "rawType": "object",
         "type": "string"
        },
        {
         "name": "bodily_injuries",
         "rawType": "int64",
         "type": "integer"
        },
        {
         "name": "witnesses",
         "rawType": "int64",
         "type": "integer"
        },
        {
         "name": "police_report_available",
         "rawType": "object",
         "type": "string"
        },
        {
         "name": "total_claim_amount",
         "rawType": "int64",
         "type": "integer"
        },
        {
         "name": "injury_claim",
         "rawType": "int64",
         "type": "integer"
        },
        {
         "name": "property_claim",
         "rawType": "int64",
         "type": "integer"
        },
        {
         "name": "vehicle_claim",
         "rawType": "int64",
         "type": "integer"
        },
        {
         "name": "auto_make",
         "rawType": "object",
         "type": "string"
        },
        {
         "name": "auto_model",
         "rawType": "object",
         "type": "string"
        },
        {
         "name": "auto_year",
         "rawType": "int64",
         "type": "integer"
        },
        {
         "name": "fraud_reported",
         "rawType": "object",
         "type": "string"
        }
       ],
       "ref": "2c6f88b6-77a2-445a-aa48-674d3cc48e73",
       "rows": [
        [
         "0",
         "328",
         "48",
         "521585",
         "2014-10-17",
         "OH",
         "250/500",
         "1000",
         "1406.91",
         "466132",
         "MALE",
         "MD",
         "craft-repair",
         "sleeping",
         "husband",
         "53300",
         "0",
         "2015-01-25",
         "Single Vehicle Collision",
         "Side Collision",
         "Major Damage",
         "Police",
         "SC",
         "Columbus",
         "9935 4th Drive",
         "5",
         "1",
         "YES",
         "1",
         "2",
         "YES",
         "71610",
         "6510",
         "13020",
         "52080",
         "Saab",
         "92x",
         "2004",
         "Y"
        ],
        [
         "1",
         "228",
         "42",
         "342868",
         "2006-06-27",
         "IN",
         "250/500",
         "2000",
         "1197.22",
         "468176",
         "MALE",
         "MD",
         "machine-op-inspct",
         "reading",
         "other-relative",
         "0",
         "0",
         "2015-01-21",
         "Vehicle Theft",
         "?",
         "Minor Damage",
         "Police",
         "VA",
         "Riverwood",
         "6608 MLK Hwy",
         "8",
         "1",
         "?",
         "0",
         "0",
         "?",
         "5070",
         "780",
         "780",
         "3510",
         "Mercedes",
         "E400",
         "2007",
         "Y"
        ],
        [
         "2",
         "134",
         "29",
         "687698",
         "2000-09-06",
         "OH",
         "100/300",
         "2000",
         "1413.14",
         "430632",
         "FEMALE",
         "PhD",
         "sales",
         "board-games",
         "own-child",
         "35100",
         "0",
         "2015-02-22",
         "Multi-vehicle Collision",
         "Rear Collision",
         "Minor Damage",
         "Police",
         "NY",
         "Columbus",
         "7121 Francis Lane",
         "7",
         "3",
         "NO",
         "2",
         "3",
         "NO",
         "34650",
         "7700",
         "3850",
         "23100",
         "Dodge",
         "RAM",
         "2007",
         "N"
        ],
        [
         "3",
         "256",
         "41",
         "227811",
         "1990-05-25",
         "IL",
         "250/500",
         "2000",
         "1415.74",
         "608117",
         "FEMALE",
         "PhD",
         "armed-forces",
         "board-games",
         "unmarried",
         "48900",
         "62400",
         "2015-01-10",
         "Single Vehicle Collision",
         "Front Collision",
         "Major Damage",
         "Police",
         "OH",
         "Arlington",
         "6956 Maple Drive",
         "5",
         "1",
         "?",
         "1",
         "2",
         "NO",
         "63400",
         "6340",
         "6340",
         "50720",
         "Chevrolet",
         "Tahoe",
         "2014",
         "Y"
        ],
        [
         "4",
         "228",
         "44",
         "367455",
         "2014-06-06",
         "IL",
         "500/1000",
         "1000",
         "1583.91",
         "610706",
         "MALE",
         "Associate",
         "sales",
         "board-games",
         "unmarried",
         "66000",
         "46000",
         "2015-02-17",
         "Vehicle Theft",
         "?",
         "Minor Damage",
         "Other",
         "NY",
         "Arlington",
         "3041 3rd Ave",
         "20",
         "1",
         "NO",
         "0",
         "1",
         "NO",
         "6500",
         "1300",
         "650",
         "4550",
         "Accura",
         "RSX",
         "2009",
         "N"
        ],
        [
         "5",
         "256",
         "39",
         "104594",
         "2006-10-12",
         "OH",
         "250/500",
         "1000",
         "1351.1",
         "478456",
         "FEMALE",
         "PhD",
         "tech-support",
         "bungie-jumping",
         "unmarried",
         "0",
         "0",
         "2015-01-02",
         "Multi-vehicle Collision",
         "Rear Collision",
         "Major Damage",
         "Fire",
         "SC",
         "Arlington",
         "8973 Washington St",
         "19",
         "3",
         "NO",
         "0",
         "2",
         "NO",
         "64100",
         "6410",
         "6410",
         "51280",
         "Saab",
         "95",
         "2003",
         "Y"
        ],
        [
         "6",
         "137",
         "34",
         "413978",
         "2000-06-04",
         "IN",
         "250/500",
         "1000",
         "1333.35",
         "441716",
         "MALE",
         "PhD",
         "prof-specialty",
         "board-games",
         "husband",
         "0",
         "77000",
         "2015-01-13",
         "Multi-vehicle Collision",
         "Front Collision",
         "Minor Damage",
         "Police",
         "NY",
         "Springfield",
         "5846 Weaver Drive",
         "0",
         "3",
         "?",
         "0",
         "0",
         "?",
         "78650",
         "21450",
         "7150",
         "50050",
         "Nissan",
         "Pathfinder",
         "2012",
         "N"
        ],
        [
         "7",
         "165",
         "37",
         "429027",
         "1990-02-03",
         "IL",
         "100/300",
         "1000",
         "1137.03",
         "603195",
         "MALE",
         "Associate",
         "tech-support",
         "base-jumping",
         "unmarried",
         "0",
         "0",
         "2015-02-27",
         "Multi-vehicle Collision",
         "Front Collision",
         "Total Loss",
         "Police",
         "VA",
         "Columbus",
         "3525 3rd Hwy",
         "23",
         "3",
         "?",
         "2",
         "2",
         "YES",
         "51590",
         "9380",
         "9380",
         "32830",
         "Audi",
         "A5",
         "2015",
         "N"
        ],
        [
         "8",
         "27",
         "33",
         "485665",
         "1997-02-05",
         "IL",
         "100/300",
         "500",
         "1442.99",
         "601734",
         "FEMALE",
         "PhD",
         "other-service",
         "golf",
         "own-child",
         "0",
         "0",
         "2015-01-30",
         "Single Vehicle Collision",
         "Front Collision",
         "Total Loss",
         "Police",
         "WV",
         "Arlington",
         "4872 Rock Ridge",
         "21",
         "1",
         "NO",
         "1",
         "1",
         "YES",
         "27700",
         "2770",
         "2770",
         "22160",
         "Toyota",
         "Camry",
         "2012",
         "N"
        ],
        [
         "9",
         "212",
         "42",
         "636550",
         "2011-07-25",
         "IL",
         "100/300",
         "500",
         "1315.68",
         "600983",
         "MALE",
         "PhD",
         "priv-house-serv",
         "camping",
         "wife",
         "0",
         "39300",
         "2015-01-05",
         "Single Vehicle Collision",
         "Rear Collision",
         "Total Loss",
         "Other",
         "NC",
         "Hillsdale",
         "3066 Francis Ave",
         "14",
         "1",
         "NO",
         "2",
         "1",
         "?",
         "42300",
         "4700",
         "4700",
         "32900",
         "Saab",
         "92x",
         "1996",
         "N"
        ]
       ],
       "shape": {
        "columns": 38,
        "rows": 10
       }
      },
      "text/html": [
       "<div>\n",
       "<style scoped>\n",
       "    .dataframe tbody tr th:only-of-type {\n",
       "        vertical-align: middle;\n",
       "    }\n",
       "\n",
       "    .dataframe tbody tr th {\n",
       "        vertical-align: top;\n",
       "    }\n",
       "\n",
       "    .dataframe thead th {\n",
       "        text-align: right;\n",
       "    }\n",
       "</style>\n",
       "<table border=\"1\" class=\"dataframe\">\n",
       "  <thead>\n",
       "    <tr style=\"text-align: right;\">\n",
       "      <th></th>\n",
       "      <th>months_as_customer</th>\n",
       "      <th>age</th>\n",
       "      <th>policy_number</th>\n",
       "      <th>policy_bind_date</th>\n",
       "      <th>policy_state</th>\n",
       "      <th>policy_csl</th>\n",
       "      <th>policy_deductable</th>\n",
       "      <th>policy_annual_premium</th>\n",
       "      <th>insured_zip</th>\n",
       "      <th>insured_sex</th>\n",
       "      <th>...</th>\n",
       "      <th>witnesses</th>\n",
       "      <th>police_report_available</th>\n",
       "      <th>total_claim_amount</th>\n",
       "      <th>injury_claim</th>\n",
       "      <th>property_claim</th>\n",
       "      <th>vehicle_claim</th>\n",
       "      <th>auto_make</th>\n",
       "      <th>auto_model</th>\n",
       "      <th>auto_year</th>\n",
       "      <th>fraud_reported</th>\n",
       "    </tr>\n",
       "  </thead>\n",
       "  <tbody>\n",
       "    <tr>\n",
       "      <th>0</th>\n",
       "      <td>328</td>\n",
       "      <td>48</td>\n",
       "      <td>521585</td>\n",
       "      <td>2014-10-17</td>\n",
       "      <td>OH</td>\n",
       "      <td>250/500</td>\n",
       "      <td>1000</td>\n",
       "      <td>1406.91</td>\n",
       "      <td>466132</td>\n",
       "      <td>MALE</td>\n",
       "      <td>...</td>\n",
       "      <td>2</td>\n",
       "      <td>YES</td>\n",
       "      <td>71610</td>\n",
       "      <td>6510</td>\n",
       "      <td>13020</td>\n",
       "      <td>52080</td>\n",
       "      <td>Saab</td>\n",
       "      <td>92x</td>\n",
       "      <td>2004</td>\n",
       "      <td>Y</td>\n",
       "    </tr>\n",
       "    <tr>\n",
       "      <th>1</th>\n",
       "      <td>228</td>\n",
       "      <td>42</td>\n",
       "      <td>342868</td>\n",
       "      <td>2006-06-27</td>\n",
       "      <td>IN</td>\n",
       "      <td>250/500</td>\n",
       "      <td>2000</td>\n",
       "      <td>1197.22</td>\n",
       "      <td>468176</td>\n",
       "      <td>MALE</td>\n",
       "      <td>...</td>\n",
       "      <td>0</td>\n",
       "      <td>?</td>\n",
       "      <td>5070</td>\n",
       "      <td>780</td>\n",
       "      <td>780</td>\n",
       "      <td>3510</td>\n",
       "      <td>Mercedes</td>\n",
       "      <td>E400</td>\n",
       "      <td>2007</td>\n",
       "      <td>Y</td>\n",
       "    </tr>\n",
       "    <tr>\n",
       "      <th>2</th>\n",
       "      <td>134</td>\n",
       "      <td>29</td>\n",
       "      <td>687698</td>\n",
       "      <td>2000-09-06</td>\n",
       "      <td>OH</td>\n",
       "      <td>100/300</td>\n",
       "      <td>2000</td>\n",
       "      <td>1413.14</td>\n",
       "      <td>430632</td>\n",
       "      <td>FEMALE</td>\n",
       "      <td>...</td>\n",
       "      <td>3</td>\n",
       "      <td>NO</td>\n",
       "      <td>34650</td>\n",
       "      <td>7700</td>\n",
       "      <td>3850</td>\n",
       "      <td>23100</td>\n",
       "      <td>Dodge</td>\n",
       "      <td>RAM</td>\n",
       "      <td>2007</td>\n",
       "      <td>N</td>\n",
       "    </tr>\n",
       "    <tr>\n",
       "      <th>3</th>\n",
       "      <td>256</td>\n",
       "      <td>41</td>\n",
       "      <td>227811</td>\n",
       "      <td>1990-05-25</td>\n",
       "      <td>IL</td>\n",
       "      <td>250/500</td>\n",
       "      <td>2000</td>\n",
       "      <td>1415.74</td>\n",
       "      <td>608117</td>\n",
       "      <td>FEMALE</td>\n",
       "      <td>...</td>\n",
       "      <td>2</td>\n",
       "      <td>NO</td>\n",
       "      <td>63400</td>\n",
       "      <td>6340</td>\n",
       "      <td>6340</td>\n",
       "      <td>50720</td>\n",
       "      <td>Chevrolet</td>\n",
       "      <td>Tahoe</td>\n",
       "      <td>2014</td>\n",
       "      <td>Y</td>\n",
       "    </tr>\n",
       "    <tr>\n",
       "      <th>4</th>\n",
       "      <td>228</td>\n",
       "      <td>44</td>\n",
       "      <td>367455</td>\n",
       "      <td>2014-06-06</td>\n",
       "      <td>IL</td>\n",
       "      <td>500/1000</td>\n",
       "      <td>1000</td>\n",
       "      <td>1583.91</td>\n",
       "      <td>610706</td>\n",
       "      <td>MALE</td>\n",
       "      <td>...</td>\n",
       "      <td>1</td>\n",
       "      <td>NO</td>\n",
       "      <td>6500</td>\n",
       "      <td>1300</td>\n",
       "      <td>650</td>\n",
       "      <td>4550</td>\n",
       "      <td>Accura</td>\n",
       "      <td>RSX</td>\n",
       "      <td>2009</td>\n",
       "      <td>N</td>\n",
       "    </tr>\n",
       "    <tr>\n",
       "      <th>5</th>\n",
       "      <td>256</td>\n",
       "      <td>39</td>\n",
       "      <td>104594</td>\n",
       "      <td>2006-10-12</td>\n",
       "      <td>OH</td>\n",
       "      <td>250/500</td>\n",
       "      <td>1000</td>\n",
       "      <td>1351.10</td>\n",
       "      <td>478456</td>\n",
       "      <td>FEMALE</td>\n",
       "      <td>...</td>\n",
       "      <td>2</td>\n",
       "      <td>NO</td>\n",
       "      <td>64100</td>\n",
       "      <td>6410</td>\n",
       "      <td>6410</td>\n",
       "      <td>51280</td>\n",
       "      <td>Saab</td>\n",
       "      <td>95</td>\n",
       "      <td>2003</td>\n",
       "      <td>Y</td>\n",
       "    </tr>\n",
       "    <tr>\n",
       "      <th>6</th>\n",
       "      <td>137</td>\n",
       "      <td>34</td>\n",
       "      <td>413978</td>\n",
       "      <td>2000-06-04</td>\n",
       "      <td>IN</td>\n",
       "      <td>250/500</td>\n",
       "      <td>1000</td>\n",
       "      <td>1333.35</td>\n",
       "      <td>441716</td>\n",
       "      <td>MALE</td>\n",
       "      <td>...</td>\n",
       "      <td>0</td>\n",
       "      <td>?</td>\n",
       "      <td>78650</td>\n",
       "      <td>21450</td>\n",
       "      <td>7150</td>\n",
       "      <td>50050</td>\n",
       "      <td>Nissan</td>\n",
       "      <td>Pathfinder</td>\n",
       "      <td>2012</td>\n",
       "      <td>N</td>\n",
       "    </tr>\n",
       "    <tr>\n",
       "      <th>7</th>\n",
       "      <td>165</td>\n",
       "      <td>37</td>\n",
       "      <td>429027</td>\n",
       "      <td>1990-02-03</td>\n",
       "      <td>IL</td>\n",
       "      <td>100/300</td>\n",
       "      <td>1000</td>\n",
       "      <td>1137.03</td>\n",
       "      <td>603195</td>\n",
       "      <td>MALE</td>\n",
       "      <td>...</td>\n",
       "      <td>2</td>\n",
       "      <td>YES</td>\n",
       "      <td>51590</td>\n",
       "      <td>9380</td>\n",
       "      <td>9380</td>\n",
       "      <td>32830</td>\n",
       "      <td>Audi</td>\n",
       "      <td>A5</td>\n",
       "      <td>2015</td>\n",
       "      <td>N</td>\n",
       "    </tr>\n",
       "    <tr>\n",
       "      <th>8</th>\n",
       "      <td>27</td>\n",
       "      <td>33</td>\n",
       "      <td>485665</td>\n",
       "      <td>1997-02-05</td>\n",
       "      <td>IL</td>\n",
       "      <td>100/300</td>\n",
       "      <td>500</td>\n",
       "      <td>1442.99</td>\n",
       "      <td>601734</td>\n",
       "      <td>FEMALE</td>\n",
       "      <td>...</td>\n",
       "      <td>1</td>\n",
       "      <td>YES</td>\n",
       "      <td>27700</td>\n",
       "      <td>2770</td>\n",
       "      <td>2770</td>\n",
       "      <td>22160</td>\n",
       "      <td>Toyota</td>\n",
       "      <td>Camry</td>\n",
       "      <td>2012</td>\n",
       "      <td>N</td>\n",
       "    </tr>\n",
       "    <tr>\n",
       "      <th>9</th>\n",
       "      <td>212</td>\n",
       "      <td>42</td>\n",
       "      <td>636550</td>\n",
       "      <td>2011-07-25</td>\n",
       "      <td>IL</td>\n",
       "      <td>100/300</td>\n",
       "      <td>500</td>\n",
       "      <td>1315.68</td>\n",
       "      <td>600983</td>\n",
       "      <td>MALE</td>\n",
       "      <td>...</td>\n",
       "      <td>1</td>\n",
       "      <td>?</td>\n",
       "      <td>42300</td>\n",
       "      <td>4700</td>\n",
       "      <td>4700</td>\n",
       "      <td>32900</td>\n",
       "      <td>Saab</td>\n",
       "      <td>92x</td>\n",
       "      <td>1996</td>\n",
       "      <td>N</td>\n",
       "    </tr>\n",
       "  </tbody>\n",
       "</table>\n",
       "<p>10 rows × 38 columns</p>\n",
       "</div>"
      ],
      "text/plain": [
       "   months_as_customer  age  policy_number policy_bind_date policy_state  \\\n",
       "0                 328   48         521585       2014-10-17           OH   \n",
       "1                 228   42         342868       2006-06-27           IN   \n",
       "2                 134   29         687698       2000-09-06           OH   \n",
       "3                 256   41         227811       1990-05-25           IL   \n",
       "4                 228   44         367455       2014-06-06           IL   \n",
       "5                 256   39         104594       2006-10-12           OH   \n",
       "6                 137   34         413978       2000-06-04           IN   \n",
       "7                 165   37         429027       1990-02-03           IL   \n",
       "8                  27   33         485665       1997-02-05           IL   \n",
       "9                 212   42         636550       2011-07-25           IL   \n",
       "\n",
       "  policy_csl  policy_deductable  policy_annual_premium  insured_zip  \\\n",
       "0    250/500               1000                1406.91       466132   \n",
       "1    250/500               2000                1197.22       468176   \n",
       "2    100/300               2000                1413.14       430632   \n",
       "3    250/500               2000                1415.74       608117   \n",
       "4   500/1000               1000                1583.91       610706   \n",
       "5    250/500               1000                1351.10       478456   \n",
       "6    250/500               1000                1333.35       441716   \n",
       "7    100/300               1000                1137.03       603195   \n",
       "8    100/300                500                1442.99       601734   \n",
       "9    100/300                500                1315.68       600983   \n",
       "\n",
       "  insured_sex  ... witnesses police_report_available total_claim_amount  \\\n",
       "0        MALE  ...         2                     YES              71610   \n",
       "1        MALE  ...         0                       ?               5070   \n",
       "2      FEMALE  ...         3                      NO              34650   \n",
       "3      FEMALE  ...         2                      NO              63400   \n",
       "4        MALE  ...         1                      NO               6500   \n",
       "5      FEMALE  ...         2                      NO              64100   \n",
       "6        MALE  ...         0                       ?              78650   \n",
       "7        MALE  ...         2                     YES              51590   \n",
       "8      FEMALE  ...         1                     YES              27700   \n",
       "9        MALE  ...         1                       ?              42300   \n",
       "\n",
       "  injury_claim  property_claim  vehicle_claim  auto_make  auto_model  \\\n",
       "0         6510           13020          52080       Saab         92x   \n",
       "1          780             780           3510   Mercedes        E400   \n",
       "2         7700            3850          23100      Dodge         RAM   \n",
       "3         6340            6340          50720  Chevrolet       Tahoe   \n",
       "4         1300             650           4550     Accura         RSX   \n",
       "5         6410            6410          51280       Saab          95   \n",
       "6        21450            7150          50050     Nissan  Pathfinder   \n",
       "7         9380            9380          32830       Audi          A5   \n",
       "8         2770            2770          22160     Toyota       Camry   \n",
       "9         4700            4700          32900       Saab         92x   \n",
       "\n",
       "  auto_year fraud_reported  \n",
       "0      2004              Y  \n",
       "1      2007              Y  \n",
       "2      2007              N  \n",
       "3      2014              Y  \n",
       "4      2009              N  \n",
       "5      2003              Y  \n",
       "6      2012              N  \n",
       "7      2015              N  \n",
       "8      2012              N  \n",
       "9      1996              N  \n",
       "\n",
       "[10 rows x 38 columns]"
      ]
     },
     "execution_count": 60,
     "metadata": {},
     "output_type": "execute_result"
    }
   ],
   "source": [
    "# Check the dataset\n",
    "data.head(10)"
   ]
  },
  {
   "cell_type": "markdown",
   "metadata": {
    "id": "nAvSdxKBDPWe"
   },
   "source": [
    "### **2.3 Fix Data Types** <font color = red>[3 marks]</font>\n",
    "Carefully examine the dataset and identify columns that contain date or time information but are not stored as the appropriate data type. Convert these columns to the correct datetime data type to enable proper analysis and manipulation of temporal information."
   ]
  },
  {
   "cell_type": "code",
   "execution_count": 61,
   "metadata": {
    "id": "WIycvsINDPWe"
   },
   "outputs": [
    {
     "data": {
      "application/vnd.microsoft.datawrangler.viewer.v0+json": {
       "columns": [
        {
         "name": "index",
         "rawType": "object",
         "type": "string"
        },
        {
         "name": "0",
         "rawType": "object",
         "type": "unknown"
        }
       ],
       "ref": "eb453d2d-5947-429b-b66e-7b447dfdf4a3",
       "rows": [
        [
         "months_as_customer",
         "int64"
        ],
        [
         "age",
         "int64"
        ],
        [
         "policy_number",
         "int64"
        ],
        [
         "policy_bind_date",
         "object"
        ],
        [
         "policy_state",
         "object"
        ],
        [
         "policy_csl",
         "object"
        ],
        [
         "policy_deductable",
         "int64"
        ],
        [
         "policy_annual_premium",
         "float64"
        ],
        [
         "insured_zip",
         "int64"
        ],
        [
         "insured_sex",
         "object"
        ],
        [
         "insured_education_level",
         "object"
        ],
        [
         "insured_occupation",
         "object"
        ],
        [
         "insured_hobbies",
         "object"
        ],
        [
         "insured_relationship",
         "object"
        ],
        [
         "capital-gains",
         "int64"
        ],
        [
         "capital-loss",
         "int64"
        ],
        [
         "incident_date",
         "object"
        ],
        [
         "incident_type",
         "object"
        ],
        [
         "collision_type",
         "object"
        ],
        [
         "incident_severity",
         "object"
        ],
        [
         "authorities_contacted",
         "object"
        ],
        [
         "incident_state",
         "object"
        ],
        [
         "incident_city",
         "object"
        ],
        [
         "incident_location",
         "object"
        ],
        [
         "incident_hour_of_the_day",
         "int64"
        ],
        [
         "number_of_vehicles_involved",
         "int64"
        ],
        [
         "property_damage",
         "object"
        ],
        [
         "bodily_injuries",
         "int64"
        ],
        [
         "witnesses",
         "int64"
        ],
        [
         "police_report_available",
         "object"
        ],
        [
         "total_claim_amount",
         "int64"
        ],
        [
         "injury_claim",
         "int64"
        ],
        [
         "property_claim",
         "int64"
        ],
        [
         "vehicle_claim",
         "int64"
        ],
        [
         "auto_make",
         "object"
        ],
        [
         "auto_model",
         "object"
        ],
        [
         "auto_year",
         "int64"
        ],
        [
         "fraud_reported",
         "object"
        ]
       ],
       "shape": {
        "columns": 1,
        "rows": 38
       }
      },
      "text/plain": [
       "months_as_customer               int64\n",
       "age                              int64\n",
       "policy_number                    int64\n",
       "policy_bind_date                object\n",
       "policy_state                    object\n",
       "policy_csl                      object\n",
       "policy_deductable                int64\n",
       "policy_annual_premium          float64\n",
       "insured_zip                      int64\n",
       "insured_sex                     object\n",
       "insured_education_level         object\n",
       "insured_occupation              object\n",
       "insured_hobbies                 object\n",
       "insured_relationship            object\n",
       "capital-gains                    int64\n",
       "capital-loss                     int64\n",
       "incident_date                   object\n",
       "incident_type                   object\n",
       "collision_type                  object\n",
       "incident_severity               object\n",
       "authorities_contacted           object\n",
       "incident_state                  object\n",
       "incident_city                   object\n",
       "incident_location               object\n",
       "incident_hour_of_the_day         int64\n",
       "number_of_vehicles_involved      int64\n",
       "property_damage                 object\n",
       "bodily_injuries                  int64\n",
       "witnesses                        int64\n",
       "police_report_available         object\n",
       "total_claim_amount               int64\n",
       "injury_claim                     int64\n",
       "property_claim                   int64\n",
       "vehicle_claim                    int64\n",
       "auto_make                       object\n",
       "auto_model                      object\n",
       "auto_year                        int64\n",
       "fraud_reported                  object\n",
       "dtype: object"
      ]
     },
     "execution_count": 61,
     "metadata": {},
     "output_type": "execute_result"
    }
   ],
   "source": [
    "# Fix the data types of the columns with incorrect data types\n",
    "\n",
    "data.dtypes\n",
    "\n",
    "#  policy_state , insured_sex , insured_education_level , insured_occupation , insured_hobbies , insured_relationship , incident_type , collision_type, incident_severity , authorities_contacted , incident_state , incident_city , incident_location , property_damage , police_report_available , auto_make , auto_model\n",
    "# policy_bind_date , incident_date , \n"
   ]
  },
  {
   "cell_type": "code",
   "execution_count": 65,
   "metadata": {},
   "outputs": [],
   "source": [
    "#Correcting the datatypes \n",
    "\n",
    "#All object columns that can be converted to string \n",
    "cols_to_convert_string = [\n",
    "    \"policy_state\", \"insured_sex\", \"insured_education_level\", \n",
    "    \"insured_occupation\", \"insured_hobbies\", \"insured_relationship\", \n",
    "    \"incident_type\", \"collision_type\", \"incident_severity\", \n",
    "    \"authorities_contacted\", \"incident_state\", \"incident_city\", \n",
    "    \"incident_location\", \"property_damage\", \"police_report_available\", \n",
    "    \"auto_make\", \"auto_model\" ,\"fraud_reported\"\n",
    "]\n",
    "\n",
    "#All datetime columns that can be converted \n",
    "cols_to_convert_datetime = [ \"policy_bind_date\" , \"incident_date\"]\n",
    "\n",
    "data[cols_to_convert_string] = data[cols_to_convert_string].astype(\"string\")\n",
    "\n",
    "for col in cols_to_convert_datetime:\n",
    "    if col in data.columns:  \n",
    "        data[col] = pd.to_datetime(data[col], format=\"%Y-%m-%d\", errors=\"coerce\").dt.date\n",
    "\n"
   ]
  },
  {
   "cell_type": "code",
   "execution_count": 67,
   "metadata": {
    "id": "kl0jWZNEDPWe"
   },
   "outputs": [
    {
     "data": {
      "application/vnd.microsoft.datawrangler.viewer.v0+json": {
       "columns": [
        {
         "name": "index",
         "rawType": "object",
         "type": "string"
        },
        {
         "name": "0",
         "rawType": "object",
         "type": "unknown"
        }
       ],
       "ref": "abf4e52b-ab3a-49d9-8224-c5ce1a8f68a8",
       "rows": [
        [
         "months_as_customer",
         "int64"
        ],
        [
         "age",
         "int64"
        ],
        [
         "policy_number",
         "int64"
        ],
        [
         "policy_bind_date",
         "object"
        ],
        [
         "policy_state",
         "string"
        ],
        [
         "policy_csl",
         "object"
        ],
        [
         "policy_deductable",
         "int64"
        ],
        [
         "policy_annual_premium",
         "float64"
        ],
        [
         "insured_zip",
         "int64"
        ],
        [
         "insured_sex",
         "string"
        ],
        [
         "insured_education_level",
         "string"
        ],
        [
         "insured_occupation",
         "string"
        ],
        [
         "insured_hobbies",
         "string"
        ],
        [
         "insured_relationship",
         "string"
        ],
        [
         "capital-gains",
         "int64"
        ],
        [
         "capital-loss",
         "int64"
        ],
        [
         "incident_date",
         "object"
        ],
        [
         "incident_type",
         "string"
        ],
        [
         "collision_type",
         "string"
        ],
        [
         "incident_severity",
         "string"
        ],
        [
         "authorities_contacted",
         "string"
        ],
        [
         "incident_state",
         "string"
        ],
        [
         "incident_city",
         "string"
        ],
        [
         "incident_location",
         "string"
        ],
        [
         "incident_hour_of_the_day",
         "int64"
        ],
        [
         "number_of_vehicles_involved",
         "int64"
        ],
        [
         "property_damage",
         "string"
        ],
        [
         "bodily_injuries",
         "int64"
        ],
        [
         "witnesses",
         "int64"
        ],
        [
         "police_report_available",
         "string"
        ],
        [
         "total_claim_amount",
         "int64"
        ],
        [
         "injury_claim",
         "int64"
        ],
        [
         "property_claim",
         "int64"
        ],
        [
         "vehicle_claim",
         "int64"
        ],
        [
         "auto_make",
         "string"
        ],
        [
         "auto_model",
         "string"
        ],
        [
         "auto_year",
         "int64"
        ],
        [
         "fraud_reported",
         "string"
        ]
       ],
       "shape": {
        "columns": 1,
        "rows": 38
       }
      },
      "text/plain": [
       "months_as_customer                      int64\n",
       "age                                     int64\n",
       "policy_number                           int64\n",
       "policy_bind_date                       object\n",
       "policy_state                   string[python]\n",
       "policy_csl                             object\n",
       "policy_deductable                       int64\n",
       "policy_annual_premium                 float64\n",
       "insured_zip                             int64\n",
       "insured_sex                    string[python]\n",
       "insured_education_level        string[python]\n",
       "insured_occupation             string[python]\n",
       "insured_hobbies                string[python]\n",
       "insured_relationship           string[python]\n",
       "capital-gains                           int64\n",
       "capital-loss                            int64\n",
       "incident_date                          object\n",
       "incident_type                  string[python]\n",
       "collision_type                 string[python]\n",
       "incident_severity              string[python]\n",
       "authorities_contacted          string[python]\n",
       "incident_state                 string[python]\n",
       "incident_city                  string[python]\n",
       "incident_location              string[python]\n",
       "incident_hour_of_the_day                int64\n",
       "number_of_vehicles_involved             int64\n",
       "property_damage                string[python]\n",
       "bodily_injuries                         int64\n",
       "witnesses                               int64\n",
       "police_report_available        string[python]\n",
       "total_claim_amount                      int64\n",
       "injury_claim                            int64\n",
       "property_claim                          int64\n",
       "vehicle_claim                           int64\n",
       "auto_make                      string[python]\n",
       "auto_model                     string[python]\n",
       "auto_year                               int64\n",
       "fraud_reported                 string[python]\n",
       "dtype: object"
      ]
     },
     "execution_count": 67,
     "metadata": {},
     "output_type": "execute_result"
    }
   ],
   "source": [
    "# Check the features of the data again\n",
    "data.head()\n",
    "data.dtypes"
   ]
  },
  {
   "cell_type": "markdown",
   "metadata": {
    "id": "nXS8rflQDPWe"
   },
   "source": [
    "## **3. Train-Validation Split** <font color = red>[5 marks]</font>"
   ]
  },
  {
   "cell_type": "markdown",
   "metadata": {
    "id": "9qOELXFYDPWe"
   },
   "source": [
    "### **3.1 Import required libraries**  "
   ]
  },
  {
   "cell_type": "code",
   "execution_count": 68,
   "metadata": {
    "id": "-vJKP7g0DPWe"
   },
   "outputs": [],
   "source": [
    "# Import train-test-split\n",
    "from sklearn.model_selection import train_test_split"
   ]
  },
  {
   "cell_type": "markdown",
   "metadata": {
    "id": "-MdKqcZ-DPWe"
   },
   "source": [
    "### **3.2 Define feature and target variables** <font color = red>[2 Marks]</font>"
   ]
  },
  {
   "cell_type": "code",
   "execution_count": 69,
   "metadata": {
    "id": "qacdKTt1DPWj"
   },
   "outputs": [],
   "source": [
    "# Put all the feature variables in X\n",
    "X = data.drop(columns=['fraud_reported'])\n",
    "# Put the target variable in y\n",
    "y = data['fraud_reported']\n",
    "\n"
   ]
  },
  {
   "cell_type": "markdown",
   "metadata": {
    "id": "t2JaDNlsDPWj"
   },
   "source": [
    "### **3.3 Split the data** <font color=\"red\">[3 Marks]</font>"
   ]
  },
  {
   "cell_type": "code",
   "execution_count": 71,
   "metadata": {
    "id": "7_mMlbt7DPWj"
   },
   "outputs": [],
   "source": [
    "from sklearn.model_selection import train_test_split\n",
    "\n",
    "# Split the dataset into 70% train and 30% validation and use stratification on the target variable\n",
    "x_train, x_test, y_train, y_test = train_test_split(X, y, test_size=0.2, random_state=12, stratify=y)\n",
    "# Reset index for all train and test\n",
    "x_train = x_train.reset_index(drop=True)\n",
    "x_test = x_test.reset_index(drop=True)\n",
    "y_train = y_train.reset_index(drop=True)\n",
    "y_test = y_test.reset_index(drop=True)\n"
   ]
  },
  {
   "cell_type": "markdown",
   "metadata": {
    "id": "4E_xpebIDPWk"
   },
   "source": [
    "## **4. EDA on training data** <font color = red>[20 marks]</font>"
   ]
  },
  {
   "cell_type": "markdown",
   "metadata": {
    "id": "xDNn7iBADPWk"
   },
   "source": [
    "### **4.1 Perform univariate analysis** <font color = red>[5 marks]</font>"
   ]
  },
  {
   "cell_type": "markdown",
   "metadata": {
    "id": "aVLeqhcADPWk"
   },
   "source": [
    "#### **4.1.1** Identify and select numerical columns from training data for univariate analysis <font color = \"red\">[1 Mark]</font>"
   ]
  },
  {
   "cell_type": "code",
   "execution_count": 72,
   "metadata": {
    "id": "bR9ulzRsDPWk"
   },
   "outputs": [
    {
     "data": {
      "application/vnd.microsoft.datawrangler.viewer.v0+json": {
       "columns": [
        {
         "name": "index",
         "rawType": "int64",
         "type": "integer"
        },
        {
         "name": "months_as_customer",
         "rawType": "int64",
         "type": "integer"
        },
        {
         "name": "age",
         "rawType": "int64",
         "type": "integer"
        },
        {
         "name": "policy_number",
         "rawType": "int64",
         "type": "integer"
        },
        {
         "name": "policy_deductable",
         "rawType": "int64",
         "type": "integer"
        },
        {
         "name": "policy_annual_premium",
         "rawType": "float64",
         "type": "float"
        },
        {
         "name": "insured_zip",
         "rawType": "int64",
         "type": "integer"
        },
        {
         "name": "capital-gains",
         "rawType": "int64",
         "type": "integer"
        },
        {
         "name": "capital-loss",
         "rawType": "int64",
         "type": "integer"
        },
        {
         "name": "incident_hour_of_the_day",
         "rawType": "int64",
         "type": "integer"
        },
        {
         "name": "number_of_vehicles_involved",
         "rawType": "int64",
         "type": "integer"
        },
        {
         "name": "bodily_injuries",
         "rawType": "int64",
         "type": "integer"
        },
        {
         "name": "witnesses",
         "rawType": "int64",
         "type": "integer"
        },
        {
         "name": "total_claim_amount",
         "rawType": "int64",
         "type": "integer"
        },
        {
         "name": "injury_claim",
         "rawType": "int64",
         "type": "integer"
        },
        {
         "name": "property_claim",
         "rawType": "int64",
         "type": "integer"
        },
        {
         "name": "vehicle_claim",
         "rawType": "int64",
         "type": "integer"
        },
        {
         "name": "auto_year",
         "rawType": "int64",
         "type": "integer"
        }
       ],
       "ref": "dd089b9b-71f1-433c-b8e7-b93e851907b7",
       "rows": [
        [
         "0",
         "294",
         "49",
         "756870",
         "500",
         "1135.43",
         "442604",
         "22700",
         "0",
         "23",
         "3",
         "1",
         "1",
         "42900",
         "3900",
         "3900",
         "35100",
         "2010"
        ],
        [
         "1",
         "22",
         "21",
         "550127",
         "1000",
         "1248.05",
         "443550",
         "37500",
         "54000",
         "3",
         "3",
         "1",
         "2",
         "53280",
         "5920",
         "0",
         "47360",
         "2015"
        ],
        [
         "2",
         "246",
         "44",
         "940942",
         "2000",
         "1649.18",
         "613647",
         "0",
         "58600",
         "18",
         "1",
         "1",
         "2",
         "61380",
         "11160",
         "5580",
         "44640",
         "2009"
        ],
        [
         "3",
         "242",
         "44",
         "664732",
         "2000",
         "1396.89",
         "618127",
         "0",
         "61600",
         "15",
         "3",
         "1",
         "2",
         "66900",
         "6690",
         "13380",
         "46830",
         "1999"
        ],
        [
         "4",
         "186",
         "38",
         "536052",
         "2000",
         "1218.56",
         "477373",
         "39300",
         "60300",
         "23",
         "3",
         "2",
         "2",
         "68760",
         "11460",
         "5730",
         "51570",
         "1998"
        ]
       ],
       "shape": {
        "columns": 17,
        "rows": 5
       }
      },
      "text/html": [
       "<div>\n",
       "<style scoped>\n",
       "    .dataframe tbody tr th:only-of-type {\n",
       "        vertical-align: middle;\n",
       "    }\n",
       "\n",
       "    .dataframe tbody tr th {\n",
       "        vertical-align: top;\n",
       "    }\n",
       "\n",
       "    .dataframe thead th {\n",
       "        text-align: right;\n",
       "    }\n",
       "</style>\n",
       "<table border=\"1\" class=\"dataframe\">\n",
       "  <thead>\n",
       "    <tr style=\"text-align: right;\">\n",
       "      <th></th>\n",
       "      <th>months_as_customer</th>\n",
       "      <th>age</th>\n",
       "      <th>policy_number</th>\n",
       "      <th>policy_deductable</th>\n",
       "      <th>policy_annual_premium</th>\n",
       "      <th>insured_zip</th>\n",
       "      <th>capital-gains</th>\n",
       "      <th>capital-loss</th>\n",
       "      <th>incident_hour_of_the_day</th>\n",
       "      <th>number_of_vehicles_involved</th>\n",
       "      <th>bodily_injuries</th>\n",
       "      <th>witnesses</th>\n",
       "      <th>total_claim_amount</th>\n",
       "      <th>injury_claim</th>\n",
       "      <th>property_claim</th>\n",
       "      <th>vehicle_claim</th>\n",
       "      <th>auto_year</th>\n",
       "    </tr>\n",
       "  </thead>\n",
       "  <tbody>\n",
       "    <tr>\n",
       "      <th>0</th>\n",
       "      <td>294</td>\n",
       "      <td>49</td>\n",
       "      <td>756870</td>\n",
       "      <td>500</td>\n",
       "      <td>1135.43</td>\n",
       "      <td>442604</td>\n",
       "      <td>22700</td>\n",
       "      <td>0</td>\n",
       "      <td>23</td>\n",
       "      <td>3</td>\n",
       "      <td>1</td>\n",
       "      <td>1</td>\n",
       "      <td>42900</td>\n",
       "      <td>3900</td>\n",
       "      <td>3900</td>\n",
       "      <td>35100</td>\n",
       "      <td>2010</td>\n",
       "    </tr>\n",
       "    <tr>\n",
       "      <th>1</th>\n",
       "      <td>22</td>\n",
       "      <td>21</td>\n",
       "      <td>550127</td>\n",
       "      <td>1000</td>\n",
       "      <td>1248.05</td>\n",
       "      <td>443550</td>\n",
       "      <td>37500</td>\n",
       "      <td>54000</td>\n",
       "      <td>3</td>\n",
       "      <td>3</td>\n",
       "      <td>1</td>\n",
       "      <td>2</td>\n",
       "      <td>53280</td>\n",
       "      <td>5920</td>\n",
       "      <td>0</td>\n",
       "      <td>47360</td>\n",
       "      <td>2015</td>\n",
       "    </tr>\n",
       "    <tr>\n",
       "      <th>2</th>\n",
       "      <td>246</td>\n",
       "      <td>44</td>\n",
       "      <td>940942</td>\n",
       "      <td>2000</td>\n",
       "      <td>1649.18</td>\n",
       "      <td>613647</td>\n",
       "      <td>0</td>\n",
       "      <td>58600</td>\n",
       "      <td>18</td>\n",
       "      <td>1</td>\n",
       "      <td>1</td>\n",
       "      <td>2</td>\n",
       "      <td>61380</td>\n",
       "      <td>11160</td>\n",
       "      <td>5580</td>\n",
       "      <td>44640</td>\n",
       "      <td>2009</td>\n",
       "    </tr>\n",
       "    <tr>\n",
       "      <th>3</th>\n",
       "      <td>242</td>\n",
       "      <td>44</td>\n",
       "      <td>664732</td>\n",
       "      <td>2000</td>\n",
       "      <td>1396.89</td>\n",
       "      <td>618127</td>\n",
       "      <td>0</td>\n",
       "      <td>61600</td>\n",
       "      <td>15</td>\n",
       "      <td>3</td>\n",
       "      <td>1</td>\n",
       "      <td>2</td>\n",
       "      <td>66900</td>\n",
       "      <td>6690</td>\n",
       "      <td>13380</td>\n",
       "      <td>46830</td>\n",
       "      <td>1999</td>\n",
       "    </tr>\n",
       "    <tr>\n",
       "      <th>4</th>\n",
       "      <td>186</td>\n",
       "      <td>38</td>\n",
       "      <td>536052</td>\n",
       "      <td>2000</td>\n",
       "      <td>1218.56</td>\n",
       "      <td>477373</td>\n",
       "      <td>39300</td>\n",
       "      <td>60300</td>\n",
       "      <td>23</td>\n",
       "      <td>3</td>\n",
       "      <td>2</td>\n",
       "      <td>2</td>\n",
       "      <td>68760</td>\n",
       "      <td>11460</td>\n",
       "      <td>5730</td>\n",
       "      <td>51570</td>\n",
       "      <td>1998</td>\n",
       "    </tr>\n",
       "  </tbody>\n",
       "</table>\n",
       "</div>"
      ],
      "text/plain": [
       "   months_as_customer  age  policy_number  policy_deductable  \\\n",
       "0                 294   49         756870                500   \n",
       "1                  22   21         550127               1000   \n",
       "2                 246   44         940942               2000   \n",
       "3                 242   44         664732               2000   \n",
       "4                 186   38         536052               2000   \n",
       "\n",
       "   policy_annual_premium  insured_zip  capital-gains  capital-loss  \\\n",
       "0                1135.43       442604          22700             0   \n",
       "1                1248.05       443550          37500         54000   \n",
       "2                1649.18       613647              0         58600   \n",
       "3                1396.89       618127              0         61600   \n",
       "4                1218.56       477373          39300         60300   \n",
       "\n",
       "   incident_hour_of_the_day  number_of_vehicles_involved  bodily_injuries  \\\n",
       "0                        23                            3                1   \n",
       "1                         3                            3                1   \n",
       "2                        18                            1                1   \n",
       "3                        15                            3                1   \n",
       "4                        23                            3                2   \n",
       "\n",
       "   witnesses  total_claim_amount  injury_claim  property_claim  vehicle_claim  \\\n",
       "0          1               42900          3900            3900          35100   \n",
       "1          2               53280          5920               0          47360   \n",
       "2          2               61380         11160            5580          44640   \n",
       "3          2               66900          6690           13380          46830   \n",
       "4          2               68760         11460            5730          51570   \n",
       "\n",
       "   auto_year  \n",
       "0       2010  \n",
       "1       2015  \n",
       "2       2009  \n",
       "3       1999  \n",
       "4       1998  "
      ]
     },
     "execution_count": 72,
     "metadata": {},
     "output_type": "execute_result"
    }
   ],
   "source": [
    "# Select numerical columns\n",
    "numericalTypes = ['int16', 'int32', 'int64', 'float16', 'float32', 'float64']\n",
    "\n",
    "numericalDataframe = x_train.select_dtypes(include=numericalTypes)\n",
    "\n",
    "numericalDataframe.head() \n"
   ]
  },
  {
   "cell_type": "markdown",
   "metadata": {
    "id": "wP4icMhPDPWk"
   },
   "source": [
    "#### **4.1.2** Visualise the distribution of selected numerical features using appropriate plots to understand their characteristics <font color = \"red\">[4 Marks]</font>"
   ]
  },
  {
   "cell_type": "code",
   "execution_count": 82,
   "metadata": {
    "id": "ny7woMrmDPWk"
   },
   "outputs": [
    {
     "data": {
      "image/png": "[encoded data removed]",
      "text/plain": [
       "<Figure size 2000x3000 with 17 Axes>"
      ]
     },
     "metadata": {},
     "output_type": "display_data"
    }
   ],
   "source": [
    "# Plot all the numerical columns to understand their distribution\n",
    "\n",
    "subplot_columns = 3 \n",
    "num_cols = len(numericalDataframe.columns)\n",
    "rows = (num_cols // subplot_columns ) + ( 0 if num_cols%subplot_columns == 0 else 1 )\n",
    "\n",
    "fig , axes = plt.subplots(rows , subplot_columns , figsize = (20,5*rows))\n",
    "\n",
    "axes.flatten() \n",
    "\n",
    "axes = axes.flatten()\n",
    "\n",
    "# Loop through columns and plot\n",
    "for i, col in enumerate(numericalDataframe.columns):\n",
    "    sns.histplot(numericalDataframe[col], kde=True, ax=axes[i])\n",
    "    axes[i].set_title(f\"Distribution of {col}\")\n",
    "\n",
    "\n",
    "#Remove unused columns \n",
    "for j in range(i + 1, len(axes)):\n",
    "    fig.delaxes(axes[j])\n",
    "\n",
    "\n",
    "plt.subplots_adjust(hspace=0.4, wspace=0.3)  # hspace controls vertical gap, wspace controls horizontal gap\n",
    "plt.tight_layout()\n",
    "plt.show()\n",
    "\n",
    "\n",
    "\n"
   ]
  },
  {
   "cell_type": "markdown",
   "metadata": {
    "id": "o4UAw5pDDPWl"
   },
   "source": [
    "### **4.2 Perform correlation analysis** <font color=\"red\">[3 Marks]</font>"
   ]
  },
  {
   "cell_type": "markdown",
   "metadata": {
    "id": "ySJiTDdxDPWl"
   },
   "source": [
    " Investigate the relationships between numerical features to identify potential multicollinearity or dependencies. Visualise the correlation structure using an appropriate method to gain insights into feature relationships."
   ]
  },
  {
   "cell_type": "code",
   "execution_count": null,
   "metadata": {
    "id": "_xadGQK7DPWl"
   },
   "outputs": [],
   "source": [
    "# Create correlation matrix for numerical columns\n",
    "\n",
    "# Plot Heatmap of the correlation matrix\n"
   ]
  },
  {
   "cell_type": "markdown",
   "metadata": {
    "id": "ZHQ3du-9DPWl"
   },
   "source": [
    "### **4.3 Check class balance** <font color=\"red\">[2 Marks]</font>"
   ]
  },
  {
   "cell_type": "markdown",
   "metadata": {
    "id": "eTkJHl0xDPWm"
   },
   "source": [
    "Examine the distribution of the target variable to identify potential class imbalances using visualisation for better understanding."
   ]
  },
  {
   "cell_type": "code",
   "execution_count": null,
   "metadata": {
    "id": "V1QrXZdhDPWm"
   },
   "outputs": [],
   "source": [
    "# Plot a bar chart to check class balance\n"
   ]
  },
  {
   "cell_type": "markdown",
   "metadata": {
    "id": "xFhVKzRHDPWn"
   },
   "source": [
    "### **4.4 Perform bivariate analysis** <font color=\"red\">[10 Marks]</font>"
   ]
  },
  {
   "cell_type": "markdown",
   "metadata": {
    "id": "h0WjamQXDPWn"
   },
   "source": [
    "#### **4.4.1** Target likelihood analysis for categorical variables. <font color=\"red\">[5 Marks]</font>\n",
    "Investigate the relationships between categorical features and the target variable by analysing the target event likelihood (for the `'Y'` event) for each level of every relevant categorical feature. Through this analysis, identify categorical features that do not contribute much in explaining the variation in the target variable."
   ]
  },
  {
   "cell_type": "code",
   "execution_count": null,
   "metadata": {
    "id": "K1OQJrO5guyw"
   },
   "outputs": [],
   "source": [
    "# Write a function to calculate and analyse the target variable likelihood for categorical features\n"
   ]
  },
  {
   "cell_type": "markdown",
   "metadata": {
    "id": "z6oeg9naDPWo"
   },
   "source": [
    "#### **4.4.2** Explore the relationships between numerical features and the target variable to understand their impact on the target outcome using appropriate visualisation techniques to identify trends and potential interactions. <font color=\"red\">[5 Marks]</font>"
   ]
  },
  {
   "cell_type": "code",
   "execution_count": null,
   "metadata": {
    "id": "bVXoNozGDPWo"
   },
   "outputs": [],
   "source": [
    "# Visualise the relationship between numerical features and the target variable to understand their impact on the target outcome\n"
   ]
  },
  {
   "cell_type": "markdown",
   "metadata": {
    "id": "OVV4m9OiDPWo"
   },
   "source": [
    "## **5. EDA on validation data** <font color = red>[OPTIONAL]</font>"
   ]
  },
  {
   "cell_type": "markdown",
   "metadata": {
    "id": "hvF11y45DPWo"
   },
   "source": [
    "### **5.1 Perform univariate analysis**"
   ]
  },
  {
   "cell_type": "markdown",
   "metadata": {
    "id": "krLtfiOBDPWo"
   },
   "source": [
    "#### **5.1.1** Identify and select numerical columns from training data for univariate analysis."
   ]
  },
  {
   "cell_type": "code",
   "execution_count": null,
   "metadata": {
    "id": "RURn5Dp1DPWo"
   },
   "outputs": [],
   "source": [
    "# Select numerical columns\n"
   ]
  },
  {
   "cell_type": "markdown",
   "metadata": {
    "id": "a41PWZrNDPWp"
   },
   "source": [
    "#### **5.1.2** Visualise the distribution of selected numerical features using appropriate plots to understand their characteristics."
   ]
  },
  {
   "cell_type": "code",
   "execution_count": null,
   "metadata": {
    "id": "DUoPrry8DPWp"
   },
   "outputs": [],
   "source": [
    "# Plot all the numerical columns to understand their distribution\n"
   ]
  },
  {
   "cell_type": "markdown",
   "metadata": {
    "id": "OhvTVXiwDPWp"
   },
   "source": [
    "### **5.2 Perform correlation analysis**"
   ]
  },
  {
   "cell_type": "markdown",
   "metadata": {
    "id": "F5tDAjsNDPWp"
   },
   "source": [
    " Investigate the relationships between numerical features to identify potential multicollinearity or dependencies. Visualise the correlation structure using an appropriate method to gain insights into feature relationships."
   ]
  },
  {
   "cell_type": "code",
   "execution_count": null,
   "metadata": {
    "id": "C-b6CSy1DPWp"
   },
   "outputs": [],
   "source": [
    "# Create correlation matrix for numerical columns\n",
    "\n",
    "# Plot Heatmap of the correlation matrix\n"
   ]
  },
  {
   "cell_type": "markdown",
   "metadata": {
    "id": "N2ww_JH7DPWp"
   },
   "source": [
    "### **5.3 Check class balance**"
   ]
  },
  {
   "cell_type": "markdown",
   "metadata": {
    "id": "ddcn-VSADPWp"
   },
   "source": [
    "Examine the distribution of the target variable to identify potential class imbalances. Visualise the distribution for better understanding."
   ]
  },
  {
   "cell_type": "code",
   "execution_count": null,
   "metadata": {
    "id": "5Yvfw9F2DPWq"
   },
   "outputs": [],
   "source": [
    "# Plot a bar chart to check class balance\n"
   ]
  },
  {
   "cell_type": "markdown",
   "metadata": {
    "id": "_pDlcXHxDPWq"
   },
   "source": [
    "### **5.4 Perform bivariate analysis**"
   ]
  },
  {
   "cell_type": "markdown",
   "metadata": {
    "id": "F0UT1kLHDPWq"
   },
   "source": [
    "#### **5.4.1** Target likelihood analysis for categorical variables.\n",
    "Investigate the relationships between categorical features and the target variable by analysing the target event likelihood (for the `'Y'` event) for each level of every relevant categorical feature. Through this analysis, identify categorical features that do not contribute much in explaining the variation in the target variable."
   ]
  },
  {
   "cell_type": "code",
   "execution_count": null,
   "metadata": {
    "id": "XMe7hHDcDPWr"
   },
   "outputs": [],
   "source": [
    "# Write a function to calculate and analyse the target variable likelihood for categorical features\n"
   ]
  },
  {
   "cell_type": "markdown",
   "metadata": {
    "id": "gCNILHjCDPWr"
   },
   "source": [
    "#### **5.4.2** Explore the relationships between numerical features and the target variable to understand their impact on the target outcome. Utilise appropriate visualisation techniques to identify trends and potential interactions."
   ]
  },
  {
   "cell_type": "code",
   "execution_count": null,
   "metadata": {
    "id": "NhQl8TJ9DPWr"
   },
   "outputs": [],
   "source": [
    "# Visualise the relationship between numerical features and the target variable to understand their impact on the target outcome\n"
   ]
  },
  {
   "cell_type": "markdown",
   "metadata": {
    "id": "TVb5a63HDPWr"
   },
   "source": [
    "## **6. Feature Engineering** <font color = red>[25 marks]</font>"
   ]
  },
  {
   "cell_type": "markdown",
   "metadata": {
    "id": "F1-lpq1iDPWs"
   },
   "source": [
    "### **6.1 Perform resampling** <font color=\"red\">[3 Marks]</font>"
   ]
  },
  {
   "cell_type": "markdown",
   "metadata": {
    "id": "vV6fEzAADPWs"
   },
   "source": [
    "Handle class imbalance in the training data by applying resampling technique.\n",
    "\n",
    "Use the **RandomOverSampler** technique to balance the data and handle class imbalance. This method increases the number of samples in the minority class by randomly duplicating them, creating synthetic data points with similar characteristics. This helps prevent the model from being biased toward the majority class and improves its ability to predict the minority class more accurately.\n",
    "\n",
    "**Note:** You can try other resampling techniques to handle class imbalance"
   ]
  },
  {
   "cell_type": "code",
   "execution_count": null,
   "metadata": {
    "id": "ijz0X5bGDPWs"
   },
   "outputs": [],
   "source": [
    "# Import RandomOverSampler from imblearn library\n",
    "from imblearn.over_sampling import RandomOverSampler\n",
    "\n",
    "# Perform resampling on training data\n"
   ]
  },
  {
   "cell_type": "markdown",
   "metadata": {
    "id": "IQ7nY4SLDPWs"
   },
   "source": [
    "### **6.2 Feature Creation** <font color=\"red\">[4 marks]</font>"
   ]
  },
  {
   "cell_type": "markdown",
   "metadata": {
    "id": "PdDUn_sVDPWs"
   },
   "source": [
    "Create new features from existing ones to enhance the model's ability to capture patterns in the data. This may involve deriving features from date/time columns, combining features, or creating interaction terms."
   ]
  },
  {
   "cell_type": "code",
   "execution_count": null,
   "metadata": {
    "id": "beiDdjl7DPWs"
   },
   "outputs": [],
   "source": [
    "# Create new features based on your understanding for both training and validation data\n"
   ]
  },
  {
   "cell_type": "markdown",
   "metadata": {
    "id": "NbQ6FhLUDPWt"
   },
   "source": [
    "### **6.3 Handle redundant columns** <font color=\"red\">[3 marks]</font>"
   ]
  },
  {
   "cell_type": "markdown",
   "metadata": {
    "id": "zs_uzd9VDPWt"
   },
   "source": [
    "Analyse the data to identify features that may be redundant or contribute minimal information toward predicting the target variable and drop them.\n",
    "\n",
    "- You can consider features that exhibit high correlation with other variables, which you may have observed during the EDA phase.\n",
    "- Features that don't strongly influence the prediction, which you may have observed during the EDA phase.\n",
    "- Categorical columns with low value counts for some levels can be remapped to reduce number of unique levels, and features with very high counts for just one level may be removed, as they resemble unique identifier columns and do not provide substantial predictive value.\n",
    "- Additionally, eliminate any columns from which the necessary features have already been extracted in the preceding step."
   ]
  },
  {
   "cell_type": "code",
   "execution_count": null,
   "metadata": {
    "id": "9Fy0Rw1BDPWt"
   },
   "outputs": [],
   "source": [
    "# Drop redundant columns from training and validation data\n"
   ]
  },
  {
   "cell_type": "code",
   "execution_count": null,
   "metadata": {
    "id": "RVYVBV27DPWt"
   },
   "outputs": [],
   "source": [
    "# Check the data\n"
   ]
  },
  {
   "cell_type": "markdown",
   "metadata": {
    "id": "SxA7dZ0UDPWt"
   },
   "source": [
    "### **6.4 Combine values in Categorical Columns** <font color=\"red\">[6 Marks]</font>\n",
    "During the EDA process, categorical columns with multiple unique values may be identified. To enhance model performance, it is essential to refine these categorical features by grouping values that have low frequency or provide limited predictive information.\n",
    "\n",
    "Combine categories that occur infrequently or exhibit similar behavior to reduce sparsity and improve model generalisation."
   ]
  },
  {
   "cell_type": "code",
   "execution_count": null,
   "metadata": {
    "id": "-OF7Y35dDPWt"
   },
   "outputs": [],
   "source": [
    "# Combine categories that have low frequency or provide limited predictive information\n"
   ]
  },
  {
   "cell_type": "markdown",
   "metadata": {
    "id": "C2vnyJqYDPWt"
   },
   "source": [
    "### **6.5 Dummy variable creation** <font color=\"red\">[6 Marks]</font>\n",
    "Transform categorical variables into numerical representations using dummy variables. Ensure consistent encoding between training and validation data."
   ]
  },
  {
   "cell_type": "markdown",
   "metadata": {
    "id": "pQHnbRB_DPWt"
   },
   "source": [
    "#### **6.5.1** Identify categorical columns for dummy variable creation <font color=\"red\">[1 Mark]</font>"
   ]
  },
  {
   "cell_type": "code",
   "execution_count": null,
   "metadata": {
    "id": "YCR73H4VDPWt"
   },
   "outputs": [],
   "source": [
    "# Identify the categorical columns for creating dummy variables\n"
   ]
  },
  {
   "cell_type": "markdown",
   "metadata": {
    "id": "ZcCgF0lsDPWu"
   },
   "source": [
    "#### **6.5.2** Create dummy variables for categorical columns in training data <font color=\"red\">[2 Marks]</font>"
   ]
  },
  {
   "cell_type": "code",
   "execution_count": null,
   "metadata": {
    "id": "JA8seldpDPWu"
   },
   "outputs": [],
   "source": [
    "# Create dummy variables using the 'get_dummies' for categorical columns in training data\n"
   ]
  },
  {
   "cell_type": "markdown",
   "metadata": {
    "id": "cbLlOiYcDPWu"
   },
   "source": [
    "#### **6.5.3** Create dummy variables for categorical columns in validation data <font color=\"red\">[2 Marks]</font>"
   ]
  },
  {
   "cell_type": "code",
   "execution_count": null,
   "metadata": {
    "id": "zvQ4n9yaDPWu"
   },
   "outputs": [],
   "source": [
    "# Create dummy variables using the 'get_dummies' for categorical columns in validation data\n"
   ]
  },
  {
   "cell_type": "markdown",
   "metadata": {
    "id": "tg5crIDKDPWu"
   },
   "source": [
    "#### **6.5.4** Create dummy variable for dependent feature in training and validation data <font color = \"red\">[1 Mark]</font>"
   ]
  },
  {
   "cell_type": "code",
   "execution_count": null,
   "metadata": {
    "id": "LyreaJQXDPWu"
   },
   "outputs": [],
   "source": [
    "# Create dummy variable for dependent feature in training data\n",
    "\n",
    "# Create dummy variable for dependent feature in validation data\n"
   ]
  },
  {
   "cell_type": "markdown",
   "metadata": {
    "id": "USXyE8QSDPWu"
   },
   "source": [
    "### **6.6 Feature scaling** <font color = red>[3 marks]</font>\n",
    "Scale numerical features to a common range to prevent features with larger values from dominating the model.  Choose a scaling method appropriate for the data and the chosen model. Apply the same scaling to both training and validation data."
   ]
  },
  {
   "cell_type": "code",
   "execution_count": null,
   "metadata": {
    "id": "VfE4LXqXDPWu"
   },
   "outputs": [],
   "source": [
    "# Import the necessary scaling tool from scikit-learn\n",
    "\n",
    "# Scale the numeric features present in the training data\n",
    "\n",
    "# Scale the numeric features present in the validation data\n"
   ]
  },
  {
   "cell_type": "markdown",
   "metadata": {
    "id": "pqIhEkpxDPWu"
   },
   "source": [
    "## **7. Model Building** <font color = red>[50 marks]</font>"
   ]
  },
  {
   "cell_type": "markdown",
   "metadata": {
    "id": "i2OLtpZWUmgS"
   },
   "source": [
    "In this task, you will be building two machine learning models: Logistic Regression and Random Forest. Each model will go through a structured process to ensure optimal performance. The key steps for each model are outlined below:\n",
    "\n",
    "**Logistic Regression Model**\n",
    "- Feature Selection using RFECV – Identify the most relevant features using Recursive Feature Elimination with Cross-Validation.\n",
    "- Model Building and Multicollinearity Assessment – Build the logistic regression model and analyse statistical aspects such as p-values and VIFs to detect multicollinearity.\n",
    "- Model Training and Evaluation on Training Data – Fit the model on the training data and assess initial performance.\n",
    "- Finding the Optimal Cutoff – Determine the best probability threshold by analysing the sensitivity-specificity tradeoff and precision-recall tradeoff.\n",
    "- FInal Prediction and Evaluation on Training Data using the Optimal Cutoff – Generate final predictions using the selected cutoff and evaluate model performance.\n",
    "\n",
    "**Random Forest Model**\n",
    "- Get Feature Importances - Obtain the importance scores for each feature and select the important features to train the model.\n",
    "- Model Evaluation on Training Data – Assess performance metrics on the training data.\n",
    "- Check Model Overfitting using Cross-Validation – Evaluate generalisation by performing cross-validation.\n",
    "- Hyperparameter Tuning using Grid Search – Optimise model performance by fine-tuning hyperparameters.\n",
    "- Final Model and Evaluation on Training Data – Train the final model using the best parameters and assess its performance."
   ]
  },
  {
   "cell_type": "markdown",
   "metadata": {
    "id": "DwQl23_eDPWx"
   },
   "source": [
    "### **7.1 Feature selection** <font color = red>[4 marks]</font>\n",
    "Identify and select the most relevant features for building a logistic regression model using Recursive Feature Elimination with Cross-Validation (RFECV)."
   ]
  },
  {
   "cell_type": "markdown",
   "metadata": {
    "id": "x7oRIQMhDPWy"
   },
   "source": [
    "#### **7.1.1** Import necessary libraries <font color=\"red\">[1 Mark]</font>"
   ]
  },
  {
   "cell_type": "code",
   "execution_count": null,
   "metadata": {
    "id": "RzQF3EyIDPWy"
   },
   "outputs": [],
   "source": [
    "# Import necessary libraries\n"
   ]
  },
  {
   "cell_type": "markdown",
   "metadata": {
    "id": "j1sHmcZKDPWy"
   },
   "source": [
    "#### **7.1.2** Perform feature selection <font color=\"red\">[2 Mark]</font>"
   ]
  },
  {
   "cell_type": "code",
   "execution_count": null,
   "metadata": {
    "id": "NKRnzy8sDPWy"
   },
   "outputs": [],
   "source": [
    "# Apply RFECV to identify the most relevant features\n"
   ]
  },
  {
   "cell_type": "code",
   "execution_count": null,
   "metadata": {
    "id": "1I0kn-9qDPWy"
   },
   "outputs": [],
   "source": [
    "# Display the features ranking by RFECV in a DataFrame\n"
   ]
  },
  {
   "cell_type": "markdown",
   "metadata": {
    "id": "KKdXnylEDPWz"
   },
   "source": [
    "#### **7.1.2** Retain the selected features <font color=\"red\">[1 Mark]</font>"
   ]
  },
  {
   "cell_type": "code",
   "execution_count": null,
   "metadata": {
    "id": "Q8TkAe72DPWz"
   },
   "outputs": [],
   "source": [
    "# Put columns selected by RFECV into variable 'col'\n"
   ]
  },
  {
   "cell_type": "markdown",
   "metadata": {
    "id": "J8zNEaKcDPWz"
   },
   "source": [
    "### **7.2 Build Logistic Regression Model** <font color = red>[12 marks]</font>\n",
    "After selecting the optimal features using RFECV, utilise these features to build a logistic regression model with Statsmodels. This approach enables a detailed statistical analysis of the model, including the assessment of p-values and Variance Inflation Factors (VIFs). Evaluating these metrics is crucial for detecting multicollinearity and ensuring that the selected predictors are not highly correlated."
   ]
  },
  {
   "cell_type": "markdown",
   "metadata": {
    "id": "xXwl9DO3DPWz"
   },
   "source": [
    "#### **7.2.1** Select relevant features and add constant in training data <font color=\"red\">[1 Mark]</font>"
   ]
  },
  {
   "cell_type": "code",
   "execution_count": null,
   "metadata": {
    "id": "kF5g0yScDPWz"
   },
   "outputs": [],
   "source": [
    "# Select only the columns selected by RFECV\n"
   ]
  },
  {
   "cell_type": "code",
   "execution_count": null,
   "metadata": {
    "id": "aBzSiNhrDPWz"
   },
   "outputs": [],
   "source": [
    "# Import statsmodels and add constant\n",
    "\n",
    "# Check the data\n"
   ]
  },
  {
   "cell_type": "markdown",
   "metadata": {
    "id": "jc9wYqe8DPW0"
   },
   "source": [
    "#### **7.2.2** Fit logistic regression model <font color=\"red\">[2 Marks]</font>"
   ]
  },
  {
   "cell_type": "code",
   "execution_count": null,
   "metadata": {
    "id": "2VTpvsZsDPW0"
   },
   "outputs": [],
   "source": [
    "# Fit a logistic Regression model on X_train after adding a constant and output the summary\n"
   ]
  },
  {
   "cell_type": "markdown",
   "metadata": {
    "id": "XBd9hyWgDPW0"
   },
   "source": [
    "**Model Interpretation**\n",
    "\n",
    "The output summary table will provide the features used for building model along with coefficient of each of the feature and their p-value. The p-value in a logistic regression model is used to assess the statistical significance of each coefficient. Lesser the p-value, more significant the feature is in the model.\n",
    "\n",
    "A positive coefficient will indicate that an increase in the value of feature would increase the odds of the event occurring. On the other hand, a negative coefficient means the opposite, i.e, an increase in the value of feature would decrease the odds of the event occurring."
   ]
  },
  {
   "cell_type": "markdown",
   "metadata": {
    "id": "VnhgDNCNDPW0"
   },
   "source": [
    "Now check VIFs for presence of multicollinearity in the model."
   ]
  },
  {
   "cell_type": "markdown",
   "metadata": {
    "id": "xLTRjCqCDPW0"
   },
   "source": [
    "#### **7.2.3** Evaluate VIF of features to assess multicollinearity <font color=\"red\">[2 Marks]</font>"
   ]
  },
  {
   "cell_type": "code",
   "execution_count": null,
   "metadata": {
    "id": "MOIppRgGDPW0"
   },
   "outputs": [],
   "source": [
    "# Import 'variance_inflation_factor'\n",
    "from statsmodels.stats.outliers_influence import variance_inflation_factor"
   ]
  },
  {
   "cell_type": "code",
   "execution_count": null,
   "metadata": {
    "id": "Xwb2dA9XDPW0"
   },
   "outputs": [],
   "source": [
    "# Make a VIF DataFrame for all the variables present\n"
   ]
  },
  {
   "cell_type": "markdown",
   "metadata": {
    "id": "2RMrfSNPDPW1"
   },
   "source": [
    "Proceed to the next step if p-values and VIFs are within acceptable ranges. If you observe high p-values or VIFs, drop the features and retrain the model. <font color=\"red\">[THIS IS OPTIONAL]</font>"
   ]
  },
  {
   "cell_type": "markdown",
   "metadata": {
    "id": "68j2g6bRDPW1"
   },
   "source": [
    "#### **7.2.4** Make predictions on training data <font color = \"red\">[1 Mark]</font>"
   ]
  },
  {
   "cell_type": "code",
   "execution_count": null,
   "metadata": {
    "id": "5DT1M3O9DPW1"
   },
   "outputs": [],
   "source": [
    "# Predict the probabilities on the training data\n",
    "\n",
    "# Reshape it into an array\n"
   ]
  },
  {
   "cell_type": "markdown",
   "metadata": {
    "id": "_j4gJDUzDPW1"
   },
   "source": [
    "#### **7.2.5** Create a DataFrame that includes actual fraud reported flags, predicted probabilities, and a column indicating predicted classifications based on a cutoff value of 0.5 <font color=\"red\">[1 Mark]</font>\n",
    "\n"
   ]
  },
  {
   "cell_type": "code",
   "execution_count": null,
   "metadata": {
    "id": "nDaW7LS_DPW1"
   },
   "outputs": [],
   "source": [
    "# Create a new DataFrame containing the actual fraud reported flag and the probabilities predicted by the model\n",
    "\n",
    "# Create new column indicating predicted classifications based on a cutoff value of 0.5\n"
   ]
  },
  {
   "cell_type": "markdown",
   "metadata": {
    "id": "6rXpNOgtDPW1"
   },
   "source": [
    "**Model performance evaluation**\n",
    "\n",
    "Evaluate the performance of the model based on predictions made on the training data."
   ]
  },
  {
   "cell_type": "markdown",
   "metadata": {
    "id": "cornkRdjDPW2"
   },
   "source": [
    "#### **7.2.6** Check the accuracy of the model <font color = \"red\">[1 Mark]</font>"
   ]
  },
  {
   "cell_type": "code",
   "execution_count": null,
   "metadata": {
    "id": "w0tyT2xgDPW2"
   },
   "outputs": [],
   "source": [
    "# Import metrics from sklearn for evaluation\n",
    "from sklearn import metrics\n",
    "\n",
    "# Check the accuracy of the model\n"
   ]
  },
  {
   "cell_type": "markdown",
   "metadata": {
    "id": "mQPieExsDPW2"
   },
   "source": [
    "#### **7.2.7** Create a confusion matrix based on the predictions made on the training data <font color=\"red\">[1 Mark]</font>"
   ]
  },
  {
   "cell_type": "code",
   "execution_count": null,
   "metadata": {
    "id": "1v1XZbNkDPW2"
   },
   "outputs": [],
   "source": [
    "# Create confusion matrix\n"
   ]
  },
  {
   "cell_type": "markdown",
   "metadata": {
    "id": "CVWR_SjqKPQF"
   },
   "source": [
    "#### **7.2.8** Create variables for true positive, true negative, false positive and false negative <font color=\"red\">[1 Mark]</font>"
   ]
  },
  {
   "cell_type": "code",
   "execution_count": null,
   "metadata": {
    "id": "JaXLtV-HKPgY"
   },
   "outputs": [],
   "source": [
    "# Create variables for true positive, true negative, false positive and false negative\n"
   ]
  },
  {
   "cell_type": "markdown",
   "metadata": {
    "id": "UkO5we1NDPW3"
   },
   "source": [
    "#### **7.2.9** Calculate sensitivity, specificity, precision, recall and F1-score <font color=\"red\">[2 Marks]</font>"
   ]
  },
  {
   "cell_type": "code",
   "execution_count": null,
   "metadata": {
    "id": "K5GpJK5CDPW3"
   },
   "outputs": [],
   "source": [
    "# Calculate the sensitivity\n",
    "\n",
    "\n",
    "# Calculate the specificity\n",
    "\n",
    "\n",
    "# Calculate Precision\n",
    "\n",
    "\n",
    "# Calculate Recall\n",
    "\n",
    "\n",
    "# Calculate F1 Score\n"
   ]
  },
  {
   "cell_type": "markdown",
   "metadata": {
    "id": "gIFdLeULDPW4"
   },
   "source": [
    "### **7.3 Find the Optimal Cutoff** <font color = red>[12 marks]</font>\n",
    "Find the optimal cutoff to improve model performance by evaluating various cutoff values and their impact on relevant metrics."
   ]
  },
  {
   "cell_type": "markdown",
   "metadata": {
    "id": "-un_98BlDPW4"
   },
   "source": [
    "#### **7.3.1** Plot ROC Curve  to visualise the trade-off between true positive rate and false positive rate across different classification thresholds <font color=\"red\">[2 Marks]</font>"
   ]
  },
  {
   "cell_type": "code",
   "execution_count": null,
   "metadata": {
    "id": "SfRY65pZDPW5"
   },
   "outputs": [],
   "source": [
    "# Import libraries or function to plot the ROC curve\n",
    "\n",
    "\n",
    "# Define ROC function\n"
   ]
  },
  {
   "cell_type": "code",
   "execution_count": null,
   "metadata": {
    "id": "nGlAWkJDDPW6"
   },
   "outputs": [],
   "source": [
    "# Call the ROC function\n"
   ]
  },
  {
   "cell_type": "markdown",
   "metadata": {
    "id": "cFPV1EBDDPW6"
   },
   "source": [
    "**Sensitivity and Specificity tradeoff**\n",
    "\n",
    "After analysing the area under the curve of the ROC, check the sensitivity and specificity tradeoff to find the optimal cutoff point."
   ]
  },
  {
   "cell_type": "markdown",
   "metadata": {
    "id": "vjcQP2BzDPW6"
   },
   "source": [
    "#### **7.3.2** Predict on training data at various probability cutoffs <font color=\"red\">[1 Mark]</font>"
   ]
  },
  {
   "cell_type": "code",
   "execution_count": null,
   "metadata": {
    "id": "t1UMUMNODPW6"
   },
   "outputs": [],
   "source": [
    "# Create columns with different probability cutoffs to explore the impact of cutoff on model performance\n"
   ]
  },
  {
   "cell_type": "markdown",
   "metadata": {
    "id": "0EFEKx21DPW6"
   },
   "source": [
    "#### **7.3.3** Plot accuracy, sensitivity, specificity at different values of probability cutoffs <font color=\"red\">[2 Marks]</font>"
   ]
  },
  {
   "cell_type": "code",
   "execution_count": null,
   "metadata": {
    "id": "OsjuXoXtDPW6"
   },
   "outputs": [],
   "source": [
    "# Create a DataFrame to see the values of accuracy, sensitivity, and specificity at different values of probability cutoffs\n"
   ]
  },
  {
   "cell_type": "code",
   "execution_count": null,
   "metadata": {
    "id": "z4og5facDPW7"
   },
   "outputs": [],
   "source": [
    "# Plot accuracy, sensitivity, and specificity at different values of probability cutoffs\n"
   ]
  },
  {
   "cell_type": "markdown",
   "metadata": {
    "id": "o6C-ScQ1DPW7"
   },
   "source": [
    "#### **7.3.4** Create a column for final prediction based on optimal cutoff <font color=\"red\">[1 Mark]</font>"
   ]
  },
  {
   "cell_type": "code",
   "execution_count": null,
   "metadata": {
    "id": "1p-z0A9wDPW7"
   },
   "outputs": [],
   "source": [
    "# Create a column for final prediction based on the optimal cutoff\n"
   ]
  },
  {
   "cell_type": "markdown",
   "metadata": {
    "id": "8jEQC7QlDPW7"
   },
   "source": [
    "#### **7.3.5** Calculate the accuracy <font color=\"red\">[1 Mark]</font>"
   ]
  },
  {
   "cell_type": "code",
   "execution_count": null,
   "metadata": {
    "id": "-XARhijiDPW7"
   },
   "outputs": [],
   "source": [
    "# Check the accuracy now\n"
   ]
  },
  {
   "cell_type": "markdown",
   "metadata": {
    "id": "qsgvpYa3DPW-"
   },
   "source": [
    "#### **7.3.6** Create confusion matrix <font color=\"red\">[1 Mark]</font>"
   ]
  },
  {
   "cell_type": "code",
   "execution_count": null,
   "metadata": {
    "id": "tuRtey6YDPW-"
   },
   "outputs": [],
   "source": [
    "# Create the confusion matrix once again\n"
   ]
  },
  {
   "cell_type": "markdown",
   "metadata": {
    "id": "Nbfa0CsbDPW-"
   },
   "source": [
    "#### **7.3.7** Create variables for true positive, true negative, false positive and false negative <font color=\"red\">[1 Mark]</font>"
   ]
  },
  {
   "cell_type": "code",
   "execution_count": null,
   "metadata": {
    "id": "xAQncHXtDPW_"
   },
   "outputs": [],
   "source": [
    "# Create variables for true positive, true negative, false positive and false negative\n"
   ]
  },
  {
   "cell_type": "markdown",
   "metadata": {
    "id": "z7KXFHRnDPW_"
   },
   "source": [
    "#### **7.3.8** Calculate sensitivity, specificity, precision, recall and F1-score of the model <font color=\"red\">[2 Mark]</font>"
   ]
  },
  {
   "cell_type": "code",
   "execution_count": null,
   "metadata": {
    "id": "958ly8K8DPW_"
   },
   "outputs": [],
   "source": [
    "# Calculate the sensitivity\n",
    "\n",
    "\n",
    "# Calculate the specificity\n",
    "\n",
    "\n",
    "# Calculate Precision\n",
    "\n",
    "\n",
    "# Calculate Recall\n",
    "\n",
    "\n",
    "# Calculate F1 Score\n"
   ]
  },
  {
   "cell_type": "markdown",
   "metadata": {
    "id": "_dNjDGtNDPXA"
   },
   "source": [
    "**Precision and Recall tradeoff**\n",
    "\n",
    "Check optimal cutoff value by plotting precision-recall curve, and adjust the cutoff based on precision and recall tradeoff if required."
   ]
  },
  {
   "cell_type": "code",
   "execution_count": null,
   "metadata": {
    "id": "HGKKbLQgDPXA"
   },
   "outputs": [],
   "source": [
    "# Import precision-recall curve function\n",
    "from sklearn.metrics import precision_recall_curve"
   ]
  },
  {
   "cell_type": "markdown",
   "metadata": {
    "id": "G4_-ZTXYDPXB"
   },
   "source": [
    "#### **7.3.9** Plot precision-recall curve <font color=\"red\">[1 Mark]</font>"
   ]
  },
  {
   "cell_type": "code",
   "execution_count": null,
   "metadata": {
    "id": "Wj2qr5FSDPXB"
   },
   "outputs": [],
   "source": [
    "# Plot precision-recall curve\n"
   ]
  },
  {
   "cell_type": "markdown",
   "metadata": {
    "id": "VdNY3cNPDPXB"
   },
   "source": [
    "### **7.4 Build Random Forest Model** <font color = red>[12 marks]</font>\n",
    "Now that you have built a logistic regression model, let's move on to building a random forest model."
   ]
  },
  {
   "cell_type": "markdown",
   "metadata": {
    "id": "sS2Hc10fDPXC"
   },
   "source": [
    "#### **7.4.1** Import necessary libraries"
   ]
  },
  {
   "cell_type": "code",
   "execution_count": null,
   "metadata": {
    "id": "S6duSoHlDPXC"
   },
   "outputs": [],
   "source": [
    "# Import necessary libraries\n",
    "from sklearn.ensemble import RandomForestClassifier\n",
    "from sklearn.metrics import classification_report\n",
    "from sklearn.model_selection import cross_val_score, GridSearchCV"
   ]
  },
  {
   "cell_type": "markdown",
   "metadata": {
    "id": "7Euc5ukLDPXC"
   },
   "source": [
    "#### **7.4.2** Build the random forest model <font color=\"red\">[1 Mark]</font>"
   ]
  },
  {
   "cell_type": "code",
   "execution_count": null,
   "metadata": {
    "id": "3ouCc_YFDPXC"
   },
   "outputs": [],
   "source": [
    "# Build a base random forest model\n"
   ]
  },
  {
   "cell_type": "markdown",
   "metadata": {
    "id": "wr3ExsTgUSKl"
   },
   "source": [
    "#### **7.4.3** Get feature importance scores and select important features <font color=\"red\">[2 Marks]</font>"
   ]
  },
  {
   "cell_type": "code",
   "execution_count": null,
   "metadata": {
    "collapsed": true,
    "id": "eSnQ3xQL__gV"
   },
   "outputs": [],
   "source": [
    "# Get feature importance scores from the trained model\n",
    "\n",
    "# Create a DataFrame to visualise the importance scores\n"
   ]
  },
  {
   "cell_type": "code",
   "execution_count": null,
   "metadata": {
    "id": "yQIR2yUqxNVI"
   },
   "outputs": [],
   "source": [
    "# Select features with high importance scores\n",
    "\n",
    "# Create a new training data with only the selected features\n"
   ]
  },
  {
   "cell_type": "markdown",
   "metadata": {
    "id": "wTzZ1YnhU9Dt"
   },
   "source": [
    "#### **7.4.4** Train the model with selected features <font color=\"red\">[1 Mark]</font>"
   ]
  },
  {
   "cell_type": "code",
   "execution_count": null,
   "metadata": {
    "id": "IeU6JcgJUnPs"
   },
   "outputs": [],
   "source": [
    "# Fit the model on the training data with selected features\n"
   ]
  },
  {
   "cell_type": "markdown",
   "metadata": {
    "id": "g_5Fk-9bDPXG"
   },
   "source": [
    "#### **7.4.5** Generate predictions on the training data <font color=\"red\">[1 Mark]</font>"
   ]
  },
  {
   "cell_type": "code",
   "execution_count": null,
   "metadata": {
    "id": "TO6AGoPFDPXG"
   },
   "outputs": [],
   "source": [
    "# Generate predictions on training data\n"
   ]
  },
  {
   "cell_type": "markdown",
   "metadata": {
    "id": "I5ApUsKlDPXH"
   },
   "source": [
    "#### **7.4.6** Check accuracy of the model <font color=\"red\">[1 Mark]</font>"
   ]
  },
  {
   "cell_type": "code",
   "execution_count": null,
   "metadata": {
    "id": "t2zmn36dDPXH"
   },
   "outputs": [],
   "source": [
    "# Check accuracy of the model\n"
   ]
  },
  {
   "cell_type": "markdown",
   "metadata": {
    "id": "Z_e5FElrDPXH"
   },
   "source": [
    "#### **7.4.7** Create confusion matrix <font color=\"red\">[1 Mark]</font>"
   ]
  },
  {
   "cell_type": "code",
   "execution_count": null,
   "metadata": {
    "id": "NJIGPNTaDPXI"
   },
   "outputs": [],
   "source": [
    "# Create the confusion matrix to visualise the performance\n"
   ]
  },
  {
   "cell_type": "markdown",
   "metadata": {
    "id": "rY3mFM8CDPXI"
   },
   "source": [
    "#### **7.4.8** Create variables for true positive, true negative, false positive and false negative <font color=\"red\">[1 Mark]</font>"
   ]
  },
  {
   "cell_type": "code",
   "execution_count": null,
   "metadata": {
    "id": "l9Ehc0vcDPXI"
   },
   "outputs": [],
   "source": [
    "# Create variables for true positive, true negative, false positive and false negative\n"
   ]
  },
  {
   "cell_type": "markdown",
   "metadata": {
    "id": "_NSOsFxRDPXJ"
   },
   "source": [
    "#### **7.4.9** Calculate sensitivity, specificity, precision, recall and F1-score of the model <font color=\"red\">[2 Marks]</font>"
   ]
  },
  {
   "cell_type": "code",
   "execution_count": null,
   "metadata": {
    "id": "M3wJsKu3DPXJ"
   },
   "outputs": [],
   "source": [
    "# Calculate the sensitivity\n",
    "\n",
    "\n",
    "# Calculate the specificity\n",
    "\n",
    "\n",
    "# Calculate Precision\n",
    "\n",
    "\n",
    "# Calculate Recall\n",
    "\n",
    "\n",
    "# Calculate F1 Score\n"
   ]
  },
  {
   "cell_type": "markdown",
   "metadata": {
    "id": "b6Jax54VDPXJ"
   },
   "source": [
    "#### **7.4.10** Check if the model is overfitting training data using cross validation <font color = \"red\">[2 marks]</font>"
   ]
  },
  {
   "cell_type": "code",
   "execution_count": null,
   "metadata": {
    "id": "42-huob6DPXJ"
   },
   "outputs": [],
   "source": [
    "# Use cross validation to check if the model is overfitting\n"
   ]
  },
  {
   "cell_type": "markdown",
   "metadata": {
    "id": "sNxYrAKZDPXJ"
   },
   "source": [
    "### **7.5 Hyperparameter Tuning** <font color = red>[10 Marks]</font>\n",
    " Enhance the performance of the random forest model by systematically exploring and selecting optimal hyperparameter values using grid search."
   ]
  },
  {
   "cell_type": "markdown",
   "metadata": {
    "id": "UnBcYjbQDPXK"
   },
   "source": [
    "#### **7.5.1** Use grid search to find the best hyperparameter values <font color = red>[2 Marks]</font>"
   ]
  },
  {
   "cell_type": "code",
   "execution_count": null,
   "metadata": {
    "id": "LTLCDfb4DPXK"
   },
   "outputs": [],
   "source": [
    "# Use grid search to find the best hyperparamter values\n",
    "\n",
    "# Best Hyperparameters\n"
   ]
  },
  {
   "cell_type": "markdown",
   "metadata": {
    "id": "vrGoY46TDPXK"
   },
   "source": [
    "#### **7.5.2** Build a random forest model based on hyperparameter tuning results <font color = red>[1 Mark]</font>"
   ]
  },
  {
   "cell_type": "code",
   "execution_count": null,
   "metadata": {
    "id": "2yxPaaDxDPXK"
   },
   "outputs": [],
   "source": [
    "# Building random forest model based on results of hyperparameter tuning\n"
   ]
  },
  {
   "cell_type": "markdown",
   "metadata": {
    "id": "IJ4gQ2m0DPXK"
   },
   "source": [
    "#### **7.5.3** Make predictions on training data <font color = red>[1 Mark]</font>"
   ]
  },
  {
   "cell_type": "code",
   "execution_count": null,
   "metadata": {
    "id": "hTE3p2rCDPXL"
   },
   "outputs": [],
   "source": [
    "# Make predictions on training data\n"
   ]
  },
  {
   "cell_type": "markdown",
   "metadata": {
    "id": "fbfSJpEuDPXL"
   },
   "source": [
    "#### **7.5.4** Check accuracy of Random Forest Model <font color = red>[1 Mark]</font>"
   ]
  },
  {
   "cell_type": "code",
   "execution_count": null,
   "metadata": {
    "id": "ItpV-JYkDPXL"
   },
   "outputs": [],
   "source": [
    "# Check the accuracy\n"
   ]
  },
  {
   "cell_type": "markdown",
   "metadata": {
    "id": "l-t6Hme3DPXL"
   },
   "source": [
    "#### **7.5.5** Create confusion matrix <font color = red>[1 Mark]</font>"
   ]
  },
  {
   "cell_type": "code",
   "execution_count": null,
   "metadata": {
    "id": "MdteUZXzDPXL"
   },
   "outputs": [],
   "source": [
    "# Create the confusion matrix\n"
   ]
  },
  {
   "cell_type": "markdown",
   "metadata": {
    "id": "jEUtsRafDPXL"
   },
   "source": [
    "#### **7.5.6** Create variables for true positive, true negative, false positive and false negative <font color = red>[1 Mark]</font>"
   ]
  },
  {
   "cell_type": "code",
   "execution_count": null,
   "metadata": {
    "id": "0aeUhFSWDPXM"
   },
   "outputs": [],
   "source": [
    "# Create variables for true positive, true negative, false positive and false negative\n"
   ]
  },
  {
   "cell_type": "markdown",
   "metadata": {
    "id": "nwDnBdjnDPXM"
   },
   "source": [
    "#### **7.5.7** Calculate sensitivity, specificity, precision, recall and F1-score of the model <font color = red>[3 Marks]</font>"
   ]
  },
  {
   "cell_type": "code",
   "execution_count": null,
   "metadata": {
    "id": "KxPHj1NjDPXM"
   },
   "outputs": [],
   "source": [
    "# Calculate the sensitivity\n",
    "\n",
    "\n",
    "# Calculate the specificity\n",
    "\n",
    "\n",
    "# Calculate Precision\n",
    "\n",
    "\n",
    "# Calculate Recall\n",
    "\n",
    "\n",
    "# Calculate F1-Score\n"
   ]
  },
  {
   "cell_type": "markdown",
   "metadata": {
    "id": "yUEvyADyDPXM"
   },
   "source": [
    "## **8. Prediction and Model Evaluation** <font color = red>[20 marks]</font>\n",
    "Use the model from the previous step to make predictions on the validation data with the optimal cutoff. Then evaluate the model's performance using metrics such as accuracy, sensitivity, specificity, precision, and recall."
   ]
  },
  {
   "cell_type": "markdown",
   "metadata": {
    "id": "EQuMB-P1DPXM"
   },
   "source": [
    "### **8.1 Make predictions over validation data using logistic regression model** <font color = red>[10 marks]</font>"
   ]
  },
  {
   "cell_type": "markdown",
   "metadata": {
    "id": "Wuz5v3TYDPXM"
   },
   "source": [
    "#### **8.1.1** Select relevant features for validation data and add constant <font color=\"red\">[1 Mark]</font>"
   ]
  },
  {
   "cell_type": "code",
   "execution_count": null,
   "metadata": {
    "id": "_AbB-x3aDPXM"
   },
   "outputs": [],
   "source": [
    "# Select the relevant features for validation data\n",
    "\n",
    "# Add constant to X_validation\n"
   ]
  },
  {
   "cell_type": "markdown",
   "metadata": {
    "id": "pzpawlMLDPXM"
   },
   "source": [
    "#### **8.1.2** Make predictions over validation data <font color=\"red\">[1 Mark]</font>"
   ]
  },
  {
   "cell_type": "code",
   "execution_count": null,
   "metadata": {
    "id": "9CmoAZJODPXM"
   },
   "outputs": [],
   "source": [
    "# Make predictions on the validation data and store it in the variable 'y_validation_pred'\n"
   ]
  },
  {
   "cell_type": "markdown",
   "metadata": {
    "id": "r8qyn8xvDPXM"
   },
   "source": [
    "#### **8.1.3** Create DataFrame with actual values and predicted values for validation data <font color=\"red\">[2 Marks]</font>"
   ]
  },
  {
   "cell_type": "code",
   "execution_count": null,
   "metadata": {
    "id": "9Zx8RBFVDPXN"
   },
   "outputs": [],
   "source": [
    "#  Create DataFrame with actual values and predicted values for validation data\n"
   ]
  },
  {
   "cell_type": "markdown",
   "metadata": {
    "id": "G_kC6wEPDPXN"
   },
   "source": [
    "#### **8.1.4** Make final prediction based on cutoff value <font color=\"red\">[1 Mark]</font>"
   ]
  },
  {
   "cell_type": "code",
   "execution_count": null,
   "metadata": {
    "id": "4ge-EC74DPXN"
   },
   "outputs": [],
   "source": [
    "# Make final predictions on the validation data using the optimal cutoff\n"
   ]
  },
  {
   "cell_type": "markdown",
   "metadata": {
    "id": "bt7sm55QDPXN"
   },
   "source": [
    "#### **8.1.5** Check the accuracy of logistic regression model on validation data <font color=\"red\">[1 Mark]</font>"
   ]
  },
  {
   "cell_type": "code",
   "execution_count": null,
   "metadata": {
    "id": "81tEKwwsDPXN"
   },
   "outputs": [],
   "source": [
    "# Check the accuracy\n"
   ]
  },
  {
   "cell_type": "markdown",
   "metadata": {
    "id": "RE8ZnagdDPXN"
   },
   "source": [
    "#### **8.1.6** Create confusion matrix <font color=\"red\">[1 Mark]</font>"
   ]
  },
  {
   "cell_type": "code",
   "execution_count": null,
   "metadata": {
    "id": "NjkkexqrDPXN"
   },
   "outputs": [],
   "source": [
    "# Create the confusion matrix\n"
   ]
  },
  {
   "cell_type": "markdown",
   "metadata": {
    "id": "SSqBZOrYDPXN"
   },
   "source": [
    "#### **8.1.7** Create variables for true positive, true negative, false positive and false negative <font color=\"red\">[1 Mark]</font>"
   ]
  },
  {
   "cell_type": "code",
   "execution_count": null,
   "metadata": {
    "id": "NzH_sFeoDPXN"
   },
   "outputs": [],
   "source": [
    "# Create variables for true positive, true negative, false positive and false negative\n"
   ]
  },
  {
   "cell_type": "markdown",
   "metadata": {
    "id": "_Mkn6DUwDPXN"
   },
   "source": [
    "#### **8.1.8** Calculate sensitivity, specificity, precision, recall and f1 score of the model <font color=\"red\">[2 Marks]</font>"
   ]
  },
  {
   "cell_type": "code",
   "execution_count": null,
   "metadata": {
    "id": "FCqNW4t3DPXO"
   },
   "outputs": [],
   "source": [
    "# Calculate the sensitivity\n",
    "\n",
    "\n",
    "# Calculate the specificity\n",
    "\n",
    "\n",
    "# Calculate Precision\n",
    "\n",
    "\n",
    "# Calculate Recall\n",
    "\n",
    "\n",
    "# Calculate F1 Score\n"
   ]
  },
  {
   "cell_type": "markdown",
   "metadata": {
    "id": "1wTVm8V_DPXO"
   },
   "source": [
    "### **8.2 Make predictions over validation data using random forest model** <font color = red>[10 marks]</font>"
   ]
  },
  {
   "cell_type": "markdown",
   "metadata": {
    "id": "UDgbDTfIDPXO"
   },
   "source": [
    "#### **8.2.1** Select the important features and make predictions over validation data <font color=\"red\">[2 Marks]</font>"
   ]
  },
  {
   "cell_type": "code",
   "execution_count": null,
   "metadata": {
    "id": "RhtKprsQDPXO"
   },
   "outputs": [],
   "source": [
    "# Select the relevant features for validation data\n",
    "\n",
    "# Make predictions on the validation data\n"
   ]
  },
  {
   "cell_type": "markdown",
   "metadata": {
    "id": "bUbtP7CADPXO"
   },
   "source": [
    "#### **8.2.2** Check accuracy of random forest model <font color=\"red\">[1 Mark]</font>"
   ]
  },
  {
   "cell_type": "code",
   "execution_count": null,
   "metadata": {
    "id": "bJyVOpLlDPXO"
   },
   "outputs": [],
   "source": [
    "# Check accuracy\n"
   ]
  },
  {
   "cell_type": "markdown",
   "metadata": {
    "id": "spUa4VBfDPXO"
   },
   "source": [
    "#### **8.2.3** Create confusion matrix <font color=\"red\">[1 Mark]</font>"
   ]
  },
  {
   "cell_type": "code",
   "execution_count": null,
   "metadata": {
    "id": "eXJVNVrSDPXO"
   },
   "outputs": [],
   "source": [
    "# Create the confusion matrix\n"
   ]
  },
  {
   "cell_type": "markdown",
   "metadata": {
    "id": "HuUdgVYSDPXO"
   },
   "source": [
    "#### **8.2.4** Create variables for true positive, true negative, false positive and false negative <font color=\"red\">[1 Mark]</font>"
   ]
  },
  {
   "cell_type": "code",
   "execution_count": null,
   "metadata": {
    "id": "UT7lU5CWDPXO"
   },
   "outputs": [],
   "source": [
    "# Create variables for true positive, true negative, false positive and false negative\n"
   ]
  },
  {
   "cell_type": "markdown",
   "metadata": {
    "id": "YAjovvF4DPXO"
   },
   "source": [
    "#### **8.2.5** Calculate sensitivity, specificity, precision, recall and F1-score of the model <font color=\"red\">[5 Marks]</font>"
   ]
  },
  {
   "cell_type": "code",
   "execution_count": null,
   "metadata": {
    "id": "C1PYzDaWDPXO"
   },
   "outputs": [],
   "source": [
    "# Calculate Sensitivity\n",
    "\n",
    "\n",
    "# Calculate Specificity\n",
    "\n",
    "\n",
    "# Calculate Precision\n",
    "\n",
    "\n",
    "# Calculate Recall\n",
    "\n",
    "\n",
    "# Calculate F1-score\n"
   ]
  },
  {
   "cell_type": "markdown",
   "metadata": {
    "id": "nENAdFWhDPXP"
   },
   "source": [
    "## **Evaluation and Conclusion**\n",
    "Write the conclusion."
   ]
  }
 ],
 "metadata": {
  "colab": {
   "provenance": [
    {
     "file_id": "1SIhxHs7kl3qt0VU3gGAAt_k_NQTvuqmc",
     "timestamp": 1740041215388
    },
    {
     "file_id": "1wef6jk_PrklarfJ5GA9FoyCAiKkArPCw",
     "timestamp": 1739780524071
    }
   ],
   "toc_visible": true
  },
  "kernelspec": {
   "display_name": "dataProcessing",
   "language": "python",
   "name": "python3"
  },
  "language_info": {
   "codemirror_mode": {
    "name": "ipython",
    "version": 3
   },
   "file_extension": ".py",
   "mimetype": "text/x-python",
   "name": "python",
   "nbconvert_exporter": "python",
   "pygments_lexer": "ipython3",
   "version": "3.10.0"
  }
 },
 "nbformat": 4,
 "nbformat_minor": 0
}
